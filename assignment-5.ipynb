{
 "cells": [
  {
   "cell_type": "code",
   "execution_count": null,
   "id": "70e72318",
   "metadata": {},
   "outputs": [],
   "source": [
    "import pandas as pd\n",
    "import numpy as np\n",
    "import matplotlib.pyplot as plt\n",
    "import seaborn as sns\n",
    "import statsmodels.api as sm"
   ]
  },
  {
   "cell_type": "code",
   "execution_count": null,
   "id": "57e7a604",
   "metadata": {},
   "outputs": [],
   "source": [
    "auto=pd.read_csv(\"C:/Users/Mano/Downloads/imports-85.data\",names=[\"symboling\",\"normalizedlosses\",\"make\",\"fueltype\",\"aspiration\",\"numofdoors\",\"bodystyle\",\"drivewheels\",\"enginelocation\",\"wheelbase\",\"length\",\"width\",\"height\",\"curbweight\",\"enginetype\",\"numofcylinders\",\"enginesize\",\"fuelsystem\",\"bore\",\"stroke\",\"compressionratio\",\"horsepower\",\"peakrpm\",\"citympg\",\"highwaympg\",\"price\"],na_values=\"?\")"
   ]
  },
  {
   "cell_type": "code",
   "execution_count": null,
   "id": "1f1c9b3d",
   "metadata": {},
   "outputs": [],
   "source": [
    "auto.head()"
   ]
  },
  {
   "cell_type": "code",
   "execution_count": null,
   "id": "e0f68fdc",
   "metadata": {
    "scrolled": true
   },
   "outputs": [],
   "source": [
    "auto.info()\n"
   ]
  },
  {
   "cell_type": "code",
   "execution_count": null,
   "id": "2f047abf",
   "metadata": {},
   "outputs": [],
   "source": []
  },
  {
   "cell_type": "code",
   "execution_count": null,
   "id": "74f3cfea",
   "metadata": {},
   "outputs": [],
   "source": [
    "auto.info()"
   ]
  },
  {
   "cell_type": "code",
   "execution_count": null,
   "id": "a0bb27ae",
   "metadata": {},
   "outputs": [],
   "source": [
    "auto.shape"
   ]
  },
  {
   "cell_type": "code",
   "execution_count": null,
   "id": "13617417",
   "metadata": {},
   "outputs": [],
   "source": [
    "auto.columns"
   ]
  },
  {
   "cell_type": "code",
   "execution_count": null,
   "id": "756283a7",
   "metadata": {},
   "outputs": [],
   "source": [
    "auto.isnull().sum()"
   ]
  },
  {
   "cell_type": "code",
   "execution_count": null,
   "id": "0f8cecfa",
   "metadata": {},
   "outputs": [],
   "source": [
    "auto.normalizedlosses.fillna(auto.normalizedlosses.mean(),inplace=True)"
   ]
  },
  {
   "cell_type": "code",
   "execution_count": null,
   "id": "69dc4efa",
   "metadata": {},
   "outputs": [],
   "source": [
    "auto.isnull().sum()"
   ]
  },
  {
   "cell_type": "code",
   "execution_count": null,
   "id": "fb3be944",
   "metadata": {},
   "outputs": [],
   "source": [
    "auto.bore.fillna(auto.bore.mean() ,inplace=True)"
   ]
  },
  {
   "cell_type": "code",
   "execution_count": null,
   "id": "2cce3966",
   "metadata": {},
   "outputs": [],
   "source": [
    "auto.isnull().sum()"
   ]
  },
  {
   "cell_type": "code",
   "execution_count": null,
   "id": "7c7c4771",
   "metadata": {},
   "outputs": [],
   "source": [
    "auto.stroke.fillna(auto.stroke.mean(),inplace=True)"
   ]
  },
  {
   "cell_type": "code",
   "execution_count": null,
   "id": "7f035b3c",
   "metadata": {},
   "outputs": [],
   "source": [
    "auto.horsepower.fillna(auto.horsepower.mean() ,inplace=True)"
   ]
  },
  {
   "cell_type": "code",
   "execution_count": null,
   "id": "225fd5d7",
   "metadata": {},
   "outputs": [],
   "source": [
    "auto.peakrpm.fillna(auto.peakrpm.mean(),inplace=True)"
   ]
  },
  {
   "cell_type": "code",
   "execution_count": null,
   "id": "abf922a0",
   "metadata": {},
   "outputs": [],
   "source": [
    "auto.price.fillna(auto.price.mean(),inplace=True)"
   ]
  },
  {
   "cell_type": "code",
   "execution_count": null,
   "id": "1c08effd",
   "metadata": {},
   "outputs": [],
   "source": [
    "auto.isnull().sum()"
   ]
  },
  {
   "cell_type": "code",
   "execution_count": null,
   "id": "c8f54c61",
   "metadata": {},
   "outputs": [],
   "source": [
    "auto.info()\n"
   ]
  },
  {
   "cell_type": "code",
   "execution_count": null,
   "id": "6009f9b4",
   "metadata": {},
   "outputs": [],
   "source": [
    "plt.hist(auto.symboling)\n"
   ]
  },
  {
   "cell_type": "code",
   "execution_count": null,
   "id": "2f6b32d3",
   "metadata": {},
   "outputs": [],
   "source": [
    "plt.boxplot(auto.symboling)"
   ]
  },
  {
   "cell_type": "code",
   "execution_count": null,
   "id": "1e3ee2fd",
   "metadata": {},
   "outputs": [],
   "source": [
    "from scipy import stats\n",
    "from statsmodels.stats.proportion import proportions_ztest"
   ]
  },
  {
   "cell_type": "code",
   "execution_count": null,
   "id": "337878d2",
   "metadata": {},
   "outputs": [],
   "source": [
    "stats.shapiro(auto.symboling)\n"
   ]
  },
  {
   "cell_type": "code",
   "execution_count": null,
   "id": "fcd0eb67",
   "metadata": {},
   "outputs": [],
   "source": [
    "plt.boxplot(auto.normalizedlosses)"
   ]
  },
  {
   "cell_type": "code",
   "execution_count": null,
   "id": "2881398f",
   "metadata": {},
   "outputs": [],
   "source": [
    "plt.hist(auto.normalizedlosses)"
   ]
  },
  {
   "cell_type": "code",
   "execution_count": null,
   "id": "ec368a29",
   "metadata": {},
   "outputs": [],
   "source": [
    "stats.shapiro(auto.normalizedlosses)"
   ]
  },
  {
   "cell_type": "code",
   "execution_count": null,
   "id": "adb73602",
   "metadata": {},
   "outputs": [],
   "source": [
    "plt.boxplot(auto.wheelbase)"
   ]
  },
  {
   "cell_type": "code",
   "execution_count": null,
   "id": "ba15752d",
   "metadata": {},
   "outputs": [],
   "source": [
    "sns.countplot(auto.wheelbase,data=auto)\n"
   ]
  },
  {
   "cell_type": "raw",
   "id": "68be9546",
   "metadata": {},
   "source": []
  },
  {
   "cell_type": "code",
   "execution_count": null,
   "id": "89f3997a",
   "metadata": {},
   "outputs": [],
   "source": [
    "stats.shapiro(auto.wheelbase)"
   ]
  },
  {
   "cell_type": "code",
   "execution_count": null,
   "id": "b7cb1c77",
   "metadata": {},
   "outputs": [],
   "source": [
    "plt.boxplot(auto.enginesize)"
   ]
  },
  {
   "cell_type": "code",
   "execution_count": null,
   "id": "681b68f9",
   "metadata": {},
   "outputs": [],
   "source": [
    "plt.hist(auto.enginesize)"
   ]
  },
  {
   "cell_type": "code",
   "execution_count": null,
   "id": "d3e8682b",
   "metadata": {},
   "outputs": [],
   "source": [
    "stats.shapiro(auto.enginesize) "
   ]
  },
  {
   "cell_type": "code",
   "execution_count": null,
   "id": "e2507e0d",
   "metadata": {},
   "outputs": [],
   "source": [
    "sns.countplot(auto.enginesize)"
   ]
  },
  {
   "cell_type": "code",
   "execution_count": null,
   "id": "4924f984",
   "metadata": {},
   "outputs": [],
   "source": [
    "plt.boxplot(auto.length)"
   ]
  },
  {
   "cell_type": "code",
   "execution_count": null,
   "id": "918d5d05",
   "metadata": {},
   "outputs": [],
   "source": [
    "plt.hist(auto.length)"
   ]
  },
  {
   "cell_type": "code",
   "execution_count": null,
   "id": "834f98c2",
   "metadata": {},
   "outputs": [],
   "source": [
    "stats.shapiro(auto.length) "
   ]
  },
  {
   "cell_type": "code",
   "execution_count": null,
   "id": "b828362e",
   "metadata": {},
   "outputs": [],
   "source": [
    "plt.boxplot(auto.width)"
   ]
  },
  {
   "cell_type": "code",
   "execution_count": null,
   "id": "6a893baa",
   "metadata": {},
   "outputs": [],
   "source": [
    "plt.hist(auto.width)"
   ]
  },
  {
   "cell_type": "code",
   "execution_count": null,
   "id": "31b4dcb8",
   "metadata": {},
   "outputs": [],
   "source": [
    "stats.shapiro(auto.width) "
   ]
  },
  {
   "cell_type": "code",
   "execution_count": null,
   "id": "ec0d0e04",
   "metadata": {},
   "outputs": [],
   "source": [
    "plt.boxplot(auto.height)"
   ]
  },
  {
   "cell_type": "code",
   "execution_count": null,
   "id": "cc5443a6",
   "metadata": {},
   "outputs": [],
   "source": [
    "plt.hist(auto.height)"
   ]
  },
  {
   "cell_type": "code",
   "execution_count": null,
   "id": "0d513592",
   "metadata": {},
   "outputs": [],
   "source": [
    "stats.shapiro(auto.height) "
   ]
  },
  {
   "cell_type": "code",
   "execution_count": null,
   "id": "1311ed8d",
   "metadata": {},
   "outputs": [],
   "source": [
    "plt.boxplot(auto.curbweight)"
   ]
  },
  {
   "cell_type": "code",
   "execution_count": null,
   "id": "64599a09",
   "metadata": {
    "scrolled": true
   },
   "outputs": [],
   "source": [
    "plt.hist(auto.curbweight)"
   ]
  },
  {
   "cell_type": "code",
   "execution_count": null,
   "id": "62c15c1a",
   "metadata": {},
   "outputs": [],
   "source": [
    "stats.shapiro(auto.curbweight) "
   ]
  },
  {
   "cell_type": "code",
   "execution_count": null,
   "id": "193adf3d",
   "metadata": {},
   "outputs": [],
   "source": [
    "plt.boxplot(auto.enginesize)"
   ]
  },
  {
   "cell_type": "code",
   "execution_count": null,
   "id": "945b6603",
   "metadata": {},
   "outputs": [],
   "source": [
    "plt.hist(auto.enginesize)"
   ]
  },
  {
   "cell_type": "code",
   "execution_count": null,
   "id": "969a0081",
   "metadata": {},
   "outputs": [],
   "source": [
    "stats.shapiro(auto.enginesize) "
   ]
  },
  {
   "cell_type": "code",
   "execution_count": null,
   "id": "617e54bc",
   "metadata": {},
   "outputs": [],
   "source": [
    "plt.boxplot(auto.bore)"
   ]
  },
  {
   "cell_type": "code",
   "execution_count": null,
   "id": "153bd23f",
   "metadata": {},
   "outputs": [],
   "source": [
    "plt.hist(auto.bore)"
   ]
  },
  {
   "cell_type": "code",
   "execution_count": null,
   "id": "3987d7fc",
   "metadata": {},
   "outputs": [],
   "source": [
    "stats.shapiro(auto.bore) "
   ]
  },
  {
   "cell_type": "code",
   "execution_count": null,
   "id": "a8623bb6",
   "metadata": {},
   "outputs": [],
   "source": [
    "plt.boxplot(auto.stroke)"
   ]
  },
  {
   "cell_type": "code",
   "execution_count": null,
   "id": "f8312a9a",
   "metadata": {},
   "outputs": [],
   "source": [
    "plt.hist(auto.stroke)"
   ]
  },
  {
   "cell_type": "code",
   "execution_count": null,
   "id": "df61780c",
   "metadata": {},
   "outputs": [],
   "source": [
    "stats.shapiro(auto.stroke) "
   ]
  },
  {
   "cell_type": "code",
   "execution_count": null,
   "id": "2e3042b5",
   "metadata": {},
   "outputs": [],
   "source": [
    "plt.boxplot(auto.compressionratio)"
   ]
  },
  {
   "cell_type": "code",
   "execution_count": null,
   "id": "74289725",
   "metadata": {},
   "outputs": [],
   "source": [
    "plt.hist(auto.compressionratio)"
   ]
  },
  {
   "cell_type": "code",
   "execution_count": null,
   "id": "8834d7de",
   "metadata": {},
   "outputs": [],
   "source": [
    "stats.shapiro(auto.compressionratio)"
   ]
  },
  {
   "cell_type": "code",
   "execution_count": null,
   "id": "3ccd119e",
   "metadata": {},
   "outputs": [],
   "source": [
    "plt.boxplot(auto.horsepower)"
   ]
  },
  {
   "cell_type": "code",
   "execution_count": null,
   "id": "c9069c55",
   "metadata": {},
   "outputs": [],
   "source": [
    "plt.hist(auto.horsepower)"
   ]
  },
  {
   "cell_type": "code",
   "execution_count": null,
   "id": "8dd7e40c",
   "metadata": {},
   "outputs": [],
   "source": [
    "stats.shapiro(auto.horsepower)"
   ]
  },
  {
   "cell_type": "code",
   "execution_count": null,
   "id": "03364d1a",
   "metadata": {},
   "outputs": [],
   "source": [
    "plt.boxplot(auto.peakrpm)"
   ]
  },
  {
   "cell_type": "code",
   "execution_count": null,
   "id": "2d4dc867",
   "metadata": {},
   "outputs": [],
   "source": [
    "plt.hist(auto.peakrpm)"
   ]
  },
  {
   "cell_type": "code",
   "execution_count": null,
   "id": "fb8074d1",
   "metadata": {},
   "outputs": [],
   "source": [
    "stats.shapiro(auto.peakrpm)"
   ]
  },
  {
   "cell_type": "code",
   "execution_count": null,
   "id": "0d7dd8e7",
   "metadata": {},
   "outputs": [],
   "source": [
    "plt.boxplot(auto.citympg)"
   ]
  },
  {
   "cell_type": "code",
   "execution_count": null,
   "id": "d35e12a9",
   "metadata": {},
   "outputs": [],
   "source": [
    "plt.hist(auto.citympg)"
   ]
  },
  {
   "cell_type": "code",
   "execution_count": null,
   "id": "c1e832d9",
   "metadata": {},
   "outputs": [],
   "source": [
    "stats.shapiro(auto.citympg)"
   ]
  },
  {
   "cell_type": "code",
   "execution_count": null,
   "id": "553749f2",
   "metadata": {},
   "outputs": [],
   "source": [
    "stats.shapiro(auto.highwaympg)"
   ]
  },
  {
   "cell_type": "code",
   "execution_count": null,
   "id": "b7d2533d",
   "metadata": {},
   "outputs": [],
   "source": [
    "plt.hist(auto.highwaympg)"
   ]
  },
  {
   "cell_type": "code",
   "execution_count": null,
   "id": "78749084",
   "metadata": {},
   "outputs": [],
   "source": [
    "plt.boxplot(auto.highwaympg)"
   ]
  },
  {
   "cell_type": "code",
   "execution_count": null,
   "id": "326820ed",
   "metadata": {},
   "outputs": [],
   "source": [
    "plt.boxplot(auto.price)"
   ]
  },
  {
   "cell_type": "code",
   "execution_count": null,
   "id": "de1f0eb6",
   "metadata": {},
   "outputs": [],
   "source": [
    "plt.hist(auto.price)"
   ]
  },
  {
   "cell_type": "code",
   "execution_count": null,
   "id": "c177da58",
   "metadata": {},
   "outputs": [],
   "source": [
    "stats.shapiro(auto.price)"
   ]
  },
  {
   "cell_type": "code",
   "execution_count": null,
   "id": "3c037cf1",
   "metadata": {},
   "outputs": [],
   "source": [
    "auto.shape"
   ]
  },
  {
   "cell_type": "code",
   "execution_count": null,
   "id": "3eded75a",
   "metadata": {
    "scrolled": true
   },
   "outputs": [],
   "source": [
    "auto.columns"
   ]
  },
  {
   "cell_type": "code",
   "execution_count": null,
   "id": "6122ad09",
   "metadata": {},
   "outputs": [],
   "source": [
    "sns.countplot(x=auto.numofdoors,data=auto)"
   ]
  },
  {
   "cell_type": "code",
   "execution_count": null,
   "id": "918699cb",
   "metadata": {},
   "outputs": [],
   "source": [
    "sns.countplot(x=auto.bodystyle,data=auto)"
   ]
  },
  {
   "cell_type": "code",
   "execution_count": null,
   "id": "4d5d9e89",
   "metadata": {},
   "outputs": [],
   "source": [
    "sns.countplot(x=auto.make,data=auto)\n"
   ]
  },
  {
   "cell_type": "code",
   "execution_count": null,
   "id": "346214f5",
   "metadata": {
    "scrolled": true
   },
   "outputs": [],
   "source": [
    "sns.countplot(x=auto.fueltype,data=auto)\n"
   ]
  },
  {
   "cell_type": "code",
   "execution_count": null,
   "id": "9a05ae8c",
   "metadata": {},
   "outputs": [],
   "source": [
    "sns.countplot(x=auto.aspiration,data=auto)"
   ]
  },
  {
   "cell_type": "code",
   "execution_count": null,
   "id": "deec29f7",
   "metadata": {},
   "outputs": [],
   "source": [
    "sns.countplot(x=auto.drivewheels,data=auto)"
   ]
  },
  {
   "cell_type": "code",
   "execution_count": null,
   "id": "ee2739a5",
   "metadata": {},
   "outputs": [],
   "source": [
    "sns.countplot(x=auto.enginelocation,data=auto)"
   ]
  },
  {
   "cell_type": "code",
   "execution_count": null,
   "id": "5a256975",
   "metadata": {},
   "outputs": [],
   "source": [
    "sns.countplot(x=auto.enginetype,data=auto)"
   ]
  },
  {
   "cell_type": "code",
   "execution_count": null,
   "id": "241734e6",
   "metadata": {},
   "outputs": [],
   "source": [
    "sns.countplot(x=auto.numofcylinders,data=auto)"
   ]
  },
  {
   "cell_type": "code",
   "execution_count": null,
   "id": "0182df47",
   "metadata": {},
   "outputs": [],
   "source": [
    "sns.countplot(x=auto.enginesize,data=auto)"
   ]
  },
  {
   "cell_type": "code",
   "execution_count": null,
   "id": "6baede00",
   "metadata": {},
   "outputs": [],
   "source": [
    "sns.countplot(x=auto.symboling,data=auto)"
   ]
  },
  {
   "cell_type": "code",
   "execution_count": null,
   "id": "c107f37a",
   "metadata": {},
   "outputs": [],
   "source": [
    "auto.symboling=auto.symboling.replace(-2,'-ve_symboling')\n",
    "auto.symboling=auto.symboling.replace(-1,'-ve_symboling')"
   ]
  },
  {
   "cell_type": "code",
   "execution_count": null,
   "id": "dff897a1",
   "metadata": {},
   "outputs": [],
   "source": [
    "auto.symboling=auto.symboling.replace(2,'+ve_symboling')\n",
    "auto.symboling=auto.symboling.replace(1,'+ve_symboling')\n",
    "auto.symboling=auto.symboling.replace(3,'+ve_symboling')"
   ]
  },
  {
   "cell_type": "code",
   "execution_count": null,
   "id": "fbc423a1",
   "metadata": {},
   "outputs": [],
   "source": [
    "sns.countplot(x=auto.symboling,data=auto)"
   ]
  },
  {
   "cell_type": "code",
   "execution_count": null,
   "id": "864ff44f",
   "metadata": {},
   "outputs": [],
   "source": [
    "sns.countplot(x=auto.symboling,order=['-ve_symboling',0,'+ve_symboling'])"
   ]
  },
  {
   "cell_type": "code",
   "execution_count": null,
   "id": "95ec94ee",
   "metadata": {
    "scrolled": true
   },
   "outputs": [],
   "source": [
    "stats.f_oneway(auto.price[auto.symboling=='-ve_symboling'],auto.price[auto.symboling==0],auto.price[auto.symboling=='+ve_symboling'])"
   ]
  },
  {
   "cell_type": "code",
   "execution_count": null,
   "id": "4b811010",
   "metadata": {},
   "outputs": [],
   "source": [
    "stats.f_oneway(auto.horsepower [auto.symboling=='-ve_symboling'],auto.horsepower[auto.symboling==0],auto.horsepower[auto.symboling=='+ve_symboling'])"
   ]
  },
  {
   "cell_type": "code",
   "execution_count": null,
   "id": "01c2aeda",
   "metadata": {},
   "outputs": [],
   "source": [
    "stats.f_oneway(auto.citympg[auto.symboling=='-ve_symboling'],auto.citympg[auto.symboling==0],auto.citympg[auto.symboling=='+ve_symboling'])"
   ]
  },
  {
   "cell_type": "code",
   "execution_count": null,
   "id": "c31960c0",
   "metadata": {},
   "outputs": [],
   "source": [
    "trainx=auto"
   ]
  },
  {
   "cell_type": "code",
   "execution_count": null,
   "id": "875cf1f7",
   "metadata": {},
   "outputs": [],
   "source": [
    "trainy=auto.citympg"
   ]
  },
  {
   "cell_type": "code",
   "execution_count": null,
   "id": "216407b6",
   "metadata": {},
   "outputs": [],
   "source": [
    "trainy1=auto.highwaympg"
   ]
  },
  {
   "cell_type": "code",
   "execution_count": null,
   "id": "b9085510",
   "metadata": {},
   "outputs": [],
   "source": [
    "trainx.drop(['citympg','highwaympg'],axis=1,inplace=True)"
   ]
  },
  {
   "cell_type": "code",
   "execution_count": null,
   "id": "f5ad910c",
   "metadata": {},
   "outputs": [],
   "source": [
    "trainx.columns"
   ]
  },
  {
   "cell_type": "code",
   "execution_count": null,
   "id": "14c265b2",
   "metadata": {},
   "outputs": [],
   "source": [
    "x=sm.add_constant(trainx)"
   ]
  },
  {
   "cell_type": "code",
   "execution_count": null,
   "id": "c5ac1cd7",
   "metadata": {},
   "outputs": [],
   "source": [
    "x\n"
   ]
  },
  {
   "cell_type": "code",
   "execution_count": null,
   "id": "733f16d1",
   "metadata": {},
   "outputs": [],
   "source": [
    "train=x.iloc[:180]"
   ]
  },
  {
   "cell_type": "code",
   "execution_count": null,
   "id": "65f04baa",
   "metadata": {},
   "outputs": [],
   "source": [
    "train"
   ]
  },
  {
   "cell_type": "code",
   "execution_count": null,
   "id": "c125024a",
   "metadata": {},
   "outputs": [],
   "source": [
    "test=x.iloc[181:]"
   ]
  },
  {
   "cell_type": "code",
   "execution_count": null,
   "id": "0990d9f2",
   "metadata": {
    "scrolled": true
   },
   "outputs": [],
   "source": [
    "test"
   ]
  },
  {
   "cell_type": "code",
   "execution_count": null,
   "id": "29d9acc8",
   "metadata": {},
   "outputs": [],
   "source": [
    "auto.drop([\"symboling\",\"make\",\"fueltype\",\"aspiration\",'numofdoors','bodystyle','drivewheels','enginelocation','enginetype','numofcylinders','fuelsystem'],axis=1,inplace=True)"
   ]
  },
  {
   "cell_type": "code",
   "execution_count": null,
   "id": "dff29115",
   "metadata": {},
   "outputs": [],
   "source": [
    "model = sm.OLS(trainy,trainx)"
   ]
  },
  {
   "cell_type": "code",
   "execution_count": null,
   "id": "15a664e9",
   "metadata": {},
   "outputs": [],
   "source": [
    "model=sm.OLS(trainy,trainx).fit()"
   ]
  },
  {
   "cell_type": "code",
   "execution_count": null,
   "id": "e13d5065",
   "metadata": {},
   "outputs": [],
   "source": [
    "model.summary()"
   ]
  },
  {
   "cell_type": "code",
   "execution_count": null,
   "id": "615a49e8",
   "metadata": {},
   "outputs": [],
   "source": [
    "model.params"
   ]
  },
  {
   "cell_type": "code",
   "execution_count": null,
   "id": "bc1345e1",
   "metadata": {},
   "outputs": [],
   "source": [
    "predict=model.predict(trainx)"
   ]
  },
  {
   "cell_type": "code",
   "execution_count": null,
   "id": "0736651d",
   "metadata": {},
   "outputs": [],
   "source": [
    "predict"
   ]
  },
  {
   "cell_type": "code",
   "execution_count": null,
   "id": "64b1d05f",
   "metadata": {},
   "outputs": [],
   "source": []
  },
  {
   "cell_type": "code",
   "execution_count": null,
   "id": "8031e77c",
   "metadata": {},
   "outputs": [],
   "source": []
  },
  {
   "cell_type": "code",
   "execution_count": null,
   "id": "8cf92335",
   "metadata": {},
   "outputs": [],
   "source": []
  },
  {
   "cell_type": "code",
   "execution_count": null,
   "id": "110e7a05",
   "metadata": {},
   "outputs": [],
   "source": []
  },
  {
   "cell_type": "code",
   "execution_count": null,
   "id": "a81f008d",
   "metadata": {},
   "outputs": [],
   "source": []
  }
 ],
 "metadata": {
  "kernelspec": {
   "display_name": "Python 3 (ipykernel)",
   "language": "python",
   "name": "python3"
  },
  "language_info": {
   "codemirror_mode": {
    "name": "ipython",
    "version": 3
   },
   "file_extension": ".py",
   "mimetype": "text/x-python",
   "name": "python",
   "nbconvert_exporter": "python",
   "pygments_lexer": "ipython3",
   "version": "3.9.7"
  }
 },
 "nbformat": 4,
 "nbformat_minor": 5
}
