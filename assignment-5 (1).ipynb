{
 "cells": [
  {
   "cell_type": "code",
   "execution_count": 1,
   "id": "70e72318",
   "metadata": {},
   "outputs": [],
   "source": [
    "import pandas as pd\n",
    "import numpy as np\n",
    "import matplotlib.pyplot as plt\n",
    "import seaborn as sns\n",
    "import statsmodels.api as sm"
   ]
  },
  {
   "cell_type": "code",
   "execution_count": 2,
   "id": "57e7a604",
   "metadata": {},
   "outputs": [],
   "source": [
    "auto=pd.read_csv(\"C:/Users/Mano/Downloads/imports-85.data\",names=[\"symboling\",\"normalizedlosses\",\"make\",\"fueltype\",\"aspiration\",\"numofdoors\",\"bodystyle\",\"drivewheels\",\"enginelocation\",\"wheelbase\",\"length\",\"width\",\"height\",\"curbweight\",\"enginetype\",\"numofcylinders\",\"enginesize\",\"fuelsystem\",\"bore\",\"stroke\",\"compressionratio\",\"horsepower\",\"peakrpm\",\"citympg\",\"highwaympg\",\"price\"],na_values=\"?\")"
   ]
  },
  {
   "cell_type": "code",
   "execution_count": 3,
   "id": "1f1c9b3d",
   "metadata": {},
   "outputs": [
    {
     "data": {
      "text/html": [
       "<div>\n",
       "<style scoped>\n",
       "    .dataframe tbody tr th:only-of-type {\n",
       "        vertical-align: middle;\n",
       "    }\n",
       "\n",
       "    .dataframe tbody tr th {\n",
       "        vertical-align: top;\n",
       "    }\n",
       "\n",
       "    .dataframe thead th {\n",
       "        text-align: right;\n",
       "    }\n",
       "</style>\n",
       "<table border=\"1\" class=\"dataframe\">\n",
       "  <thead>\n",
       "    <tr style=\"text-align: right;\">\n",
       "      <th></th>\n",
       "      <th>symboling</th>\n",
       "      <th>normalizedlosses</th>\n",
       "      <th>make</th>\n",
       "      <th>fueltype</th>\n",
       "      <th>aspiration</th>\n",
       "      <th>numofdoors</th>\n",
       "      <th>bodystyle</th>\n",
       "      <th>drivewheels</th>\n",
       "      <th>enginelocation</th>\n",
       "      <th>wheelbase</th>\n",
       "      <th>...</th>\n",
       "      <th>enginesize</th>\n",
       "      <th>fuelsystem</th>\n",
       "      <th>bore</th>\n",
       "      <th>stroke</th>\n",
       "      <th>compressionratio</th>\n",
       "      <th>horsepower</th>\n",
       "      <th>peakrpm</th>\n",
       "      <th>citympg</th>\n",
       "      <th>highwaympg</th>\n",
       "      <th>price</th>\n",
       "    </tr>\n",
       "  </thead>\n",
       "  <tbody>\n",
       "    <tr>\n",
       "      <th>0</th>\n",
       "      <td>3</td>\n",
       "      <td>NaN</td>\n",
       "      <td>alfa-romero</td>\n",
       "      <td>gas</td>\n",
       "      <td>std</td>\n",
       "      <td>two</td>\n",
       "      <td>convertible</td>\n",
       "      <td>rwd</td>\n",
       "      <td>front</td>\n",
       "      <td>88.6</td>\n",
       "      <td>...</td>\n",
       "      <td>130</td>\n",
       "      <td>mpfi</td>\n",
       "      <td>3.47</td>\n",
       "      <td>2.68</td>\n",
       "      <td>9.0</td>\n",
       "      <td>111.0</td>\n",
       "      <td>5000.0</td>\n",
       "      <td>21</td>\n",
       "      <td>27</td>\n",
       "      <td>13495.0</td>\n",
       "    </tr>\n",
       "    <tr>\n",
       "      <th>1</th>\n",
       "      <td>3</td>\n",
       "      <td>NaN</td>\n",
       "      <td>alfa-romero</td>\n",
       "      <td>gas</td>\n",
       "      <td>std</td>\n",
       "      <td>two</td>\n",
       "      <td>convertible</td>\n",
       "      <td>rwd</td>\n",
       "      <td>front</td>\n",
       "      <td>88.6</td>\n",
       "      <td>...</td>\n",
       "      <td>130</td>\n",
       "      <td>mpfi</td>\n",
       "      <td>3.47</td>\n",
       "      <td>2.68</td>\n",
       "      <td>9.0</td>\n",
       "      <td>111.0</td>\n",
       "      <td>5000.0</td>\n",
       "      <td>21</td>\n",
       "      <td>27</td>\n",
       "      <td>16500.0</td>\n",
       "    </tr>\n",
       "    <tr>\n",
       "      <th>2</th>\n",
       "      <td>1</td>\n",
       "      <td>NaN</td>\n",
       "      <td>alfa-romero</td>\n",
       "      <td>gas</td>\n",
       "      <td>std</td>\n",
       "      <td>two</td>\n",
       "      <td>hatchback</td>\n",
       "      <td>rwd</td>\n",
       "      <td>front</td>\n",
       "      <td>94.5</td>\n",
       "      <td>...</td>\n",
       "      <td>152</td>\n",
       "      <td>mpfi</td>\n",
       "      <td>2.68</td>\n",
       "      <td>3.47</td>\n",
       "      <td>9.0</td>\n",
       "      <td>154.0</td>\n",
       "      <td>5000.0</td>\n",
       "      <td>19</td>\n",
       "      <td>26</td>\n",
       "      <td>16500.0</td>\n",
       "    </tr>\n",
       "    <tr>\n",
       "      <th>3</th>\n",
       "      <td>2</td>\n",
       "      <td>164.0</td>\n",
       "      <td>audi</td>\n",
       "      <td>gas</td>\n",
       "      <td>std</td>\n",
       "      <td>four</td>\n",
       "      <td>sedan</td>\n",
       "      <td>fwd</td>\n",
       "      <td>front</td>\n",
       "      <td>99.8</td>\n",
       "      <td>...</td>\n",
       "      <td>109</td>\n",
       "      <td>mpfi</td>\n",
       "      <td>3.19</td>\n",
       "      <td>3.40</td>\n",
       "      <td>10.0</td>\n",
       "      <td>102.0</td>\n",
       "      <td>5500.0</td>\n",
       "      <td>24</td>\n",
       "      <td>30</td>\n",
       "      <td>13950.0</td>\n",
       "    </tr>\n",
       "    <tr>\n",
       "      <th>4</th>\n",
       "      <td>2</td>\n",
       "      <td>164.0</td>\n",
       "      <td>audi</td>\n",
       "      <td>gas</td>\n",
       "      <td>std</td>\n",
       "      <td>four</td>\n",
       "      <td>sedan</td>\n",
       "      <td>4wd</td>\n",
       "      <td>front</td>\n",
       "      <td>99.4</td>\n",
       "      <td>...</td>\n",
       "      <td>136</td>\n",
       "      <td>mpfi</td>\n",
       "      <td>3.19</td>\n",
       "      <td>3.40</td>\n",
       "      <td>8.0</td>\n",
       "      <td>115.0</td>\n",
       "      <td>5500.0</td>\n",
       "      <td>18</td>\n",
       "      <td>22</td>\n",
       "      <td>17450.0</td>\n",
       "    </tr>\n",
       "  </tbody>\n",
       "</table>\n",
       "<p>5 rows × 26 columns</p>\n",
       "</div>"
      ],
      "text/plain": [
       "   symboling  normalizedlosses         make fueltype aspiration numofdoors  \\\n",
       "0          3               NaN  alfa-romero      gas        std        two   \n",
       "1          3               NaN  alfa-romero      gas        std        two   \n",
       "2          1               NaN  alfa-romero      gas        std        two   \n",
       "3          2             164.0         audi      gas        std       four   \n",
       "4          2             164.0         audi      gas        std       four   \n",
       "\n",
       "     bodystyle drivewheels enginelocation  wheelbase  ...  enginesize  \\\n",
       "0  convertible         rwd          front       88.6  ...         130   \n",
       "1  convertible         rwd          front       88.6  ...         130   \n",
       "2    hatchback         rwd          front       94.5  ...         152   \n",
       "3        sedan         fwd          front       99.8  ...         109   \n",
       "4        sedan         4wd          front       99.4  ...         136   \n",
       "\n",
       "   fuelsystem  bore  stroke compressionratio horsepower  peakrpm citympg  \\\n",
       "0        mpfi  3.47    2.68              9.0      111.0   5000.0      21   \n",
       "1        mpfi  3.47    2.68              9.0      111.0   5000.0      21   \n",
       "2        mpfi  2.68    3.47              9.0      154.0   5000.0      19   \n",
       "3        mpfi  3.19    3.40             10.0      102.0   5500.0      24   \n",
       "4        mpfi  3.19    3.40              8.0      115.0   5500.0      18   \n",
       "\n",
       "   highwaympg    price  \n",
       "0          27  13495.0  \n",
       "1          27  16500.0  \n",
       "2          26  16500.0  \n",
       "3          30  13950.0  \n",
       "4          22  17450.0  \n",
       "\n",
       "[5 rows x 26 columns]"
      ]
     },
     "execution_count": 3,
     "metadata": {},
     "output_type": "execute_result"
    }
   ],
   "source": [
    "auto.head()"
   ]
  },
  {
   "cell_type": "code",
   "execution_count": 4,
   "id": "e0f68fdc",
   "metadata": {
    "scrolled": true
   },
   "outputs": [
    {
     "name": "stdout",
     "output_type": "stream",
     "text": [
      "<class 'pandas.core.frame.DataFrame'>\n",
      "RangeIndex: 205 entries, 0 to 204\n",
      "Data columns (total 26 columns):\n",
      " #   Column            Non-Null Count  Dtype  \n",
      "---  ------            --------------  -----  \n",
      " 0   symboling         205 non-null    int64  \n",
      " 1   normalizedlosses  164 non-null    float64\n",
      " 2   make              205 non-null    object \n",
      " 3   fueltype          205 non-null    object \n",
      " 4   aspiration        205 non-null    object \n",
      " 5   numofdoors        203 non-null    object \n",
      " 6   bodystyle         205 non-null    object \n",
      " 7   drivewheels       205 non-null    object \n",
      " 8   enginelocation    205 non-null    object \n",
      " 9   wheelbase         205 non-null    float64\n",
      " 10  length            205 non-null    float64\n",
      " 11  width             205 non-null    float64\n",
      " 12  height            205 non-null    float64\n",
      " 13  curbweight        205 non-null    int64  \n",
      " 14  enginetype        205 non-null    object \n",
      " 15  numofcylinders    205 non-null    object \n",
      " 16  enginesize        205 non-null    int64  \n",
      " 17  fuelsystem        205 non-null    object \n",
      " 18  bore              201 non-null    float64\n",
      " 19  stroke            201 non-null    float64\n",
      " 20  compressionratio  205 non-null    float64\n",
      " 21  horsepower        203 non-null    float64\n",
      " 22  peakrpm           203 non-null    float64\n",
      " 23  citympg           205 non-null    int64  \n",
      " 24  highwaympg        205 non-null    int64  \n",
      " 25  price             201 non-null    float64\n",
      "dtypes: float64(11), int64(5), object(10)\n",
      "memory usage: 41.8+ KB\n"
     ]
    }
   ],
   "source": [
    "auto.info()\n"
   ]
  },
  {
   "cell_type": "code",
   "execution_count": null,
   "id": "2f047abf",
   "metadata": {},
   "outputs": [],
   "source": []
  },
  {
   "cell_type": "code",
   "execution_count": 5,
   "id": "74f3cfea",
   "metadata": {},
   "outputs": [
    {
     "name": "stdout",
     "output_type": "stream",
     "text": [
      "<class 'pandas.core.frame.DataFrame'>\n",
      "RangeIndex: 205 entries, 0 to 204\n",
      "Data columns (total 26 columns):\n",
      " #   Column            Non-Null Count  Dtype  \n",
      "---  ------            --------------  -----  \n",
      " 0   symboling         205 non-null    int64  \n",
      " 1   normalizedlosses  164 non-null    float64\n",
      " 2   make              205 non-null    object \n",
      " 3   fueltype          205 non-null    object \n",
      " 4   aspiration        205 non-null    object \n",
      " 5   numofdoors        203 non-null    object \n",
      " 6   bodystyle         205 non-null    object \n",
      " 7   drivewheels       205 non-null    object \n",
      " 8   enginelocation    205 non-null    object \n",
      " 9   wheelbase         205 non-null    float64\n",
      " 10  length            205 non-null    float64\n",
      " 11  width             205 non-null    float64\n",
      " 12  height            205 non-null    float64\n",
      " 13  curbweight        205 non-null    int64  \n",
      " 14  enginetype        205 non-null    object \n",
      " 15  numofcylinders    205 non-null    object \n",
      " 16  enginesize        205 non-null    int64  \n",
      " 17  fuelsystem        205 non-null    object \n",
      " 18  bore              201 non-null    float64\n",
      " 19  stroke            201 non-null    float64\n",
      " 20  compressionratio  205 non-null    float64\n",
      " 21  horsepower        203 non-null    float64\n",
      " 22  peakrpm           203 non-null    float64\n",
      " 23  citympg           205 non-null    int64  \n",
      " 24  highwaympg        205 non-null    int64  \n",
      " 25  price             201 non-null    float64\n",
      "dtypes: float64(11), int64(5), object(10)\n",
      "memory usage: 41.8+ KB\n"
     ]
    }
   ],
   "source": [
    "auto.info()"
   ]
  },
  {
   "cell_type": "code",
   "execution_count": 6,
   "id": "a0bb27ae",
   "metadata": {},
   "outputs": [
    {
     "data": {
      "text/plain": [
       "(205, 26)"
      ]
     },
     "execution_count": 6,
     "metadata": {},
     "output_type": "execute_result"
    }
   ],
   "source": [
    "auto.shape"
   ]
  },
  {
   "cell_type": "code",
   "execution_count": 7,
   "id": "13617417",
   "metadata": {},
   "outputs": [
    {
     "data": {
      "text/plain": [
       "Index(['symboling', 'normalizedlosses', 'make', 'fueltype', 'aspiration',\n",
       "       'numofdoors', 'bodystyle', 'drivewheels', 'enginelocation', 'wheelbase',\n",
       "       'length', 'width', 'height', 'curbweight', 'enginetype',\n",
       "       'numofcylinders', 'enginesize', 'fuelsystem', 'bore', 'stroke',\n",
       "       'compressionratio', 'horsepower', 'peakrpm', 'citympg', 'highwaympg',\n",
       "       'price'],\n",
       "      dtype='object')"
      ]
     },
     "execution_count": 7,
     "metadata": {},
     "output_type": "execute_result"
    }
   ],
   "source": [
    "auto.columns"
   ]
  },
  {
   "cell_type": "code",
   "execution_count": 8,
   "id": "756283a7",
   "metadata": {},
   "outputs": [
    {
     "data": {
      "text/plain": [
       "symboling            0\n",
       "normalizedlosses    41\n",
       "make                 0\n",
       "fueltype             0\n",
       "aspiration           0\n",
       "numofdoors           2\n",
       "bodystyle            0\n",
       "drivewheels          0\n",
       "enginelocation       0\n",
       "wheelbase            0\n",
       "length               0\n",
       "width                0\n",
       "height               0\n",
       "curbweight           0\n",
       "enginetype           0\n",
       "numofcylinders       0\n",
       "enginesize           0\n",
       "fuelsystem           0\n",
       "bore                 4\n",
       "stroke               4\n",
       "compressionratio     0\n",
       "horsepower           2\n",
       "peakrpm              2\n",
       "citympg              0\n",
       "highwaympg           0\n",
       "price                4\n",
       "dtype: int64"
      ]
     },
     "execution_count": 8,
     "metadata": {},
     "output_type": "execute_result"
    }
   ],
   "source": [
    "auto.isnull().sum()"
   ]
  },
  {
   "cell_type": "code",
   "execution_count": 9,
   "id": "0f8cecfa",
   "metadata": {},
   "outputs": [],
   "source": [
    "auto.normalizedlosses.fillna(auto.normalizedlosses.mean(),inplace=True)"
   ]
  },
  {
   "cell_type": "code",
   "execution_count": 10,
   "id": "69dc4efa",
   "metadata": {},
   "outputs": [
    {
     "data": {
      "text/plain": [
       "symboling           0\n",
       "normalizedlosses    0\n",
       "make                0\n",
       "fueltype            0\n",
       "aspiration          0\n",
       "numofdoors          2\n",
       "bodystyle           0\n",
       "drivewheels         0\n",
       "enginelocation      0\n",
       "wheelbase           0\n",
       "length              0\n",
       "width               0\n",
       "height              0\n",
       "curbweight          0\n",
       "enginetype          0\n",
       "numofcylinders      0\n",
       "enginesize          0\n",
       "fuelsystem          0\n",
       "bore                4\n",
       "stroke              4\n",
       "compressionratio    0\n",
       "horsepower          2\n",
       "peakrpm             2\n",
       "citympg             0\n",
       "highwaympg          0\n",
       "price               4\n",
       "dtype: int64"
      ]
     },
     "execution_count": 10,
     "metadata": {},
     "output_type": "execute_result"
    }
   ],
   "source": [
    "auto.isnull().sum()"
   ]
  },
  {
   "cell_type": "code",
   "execution_count": 11,
   "id": "fb3be944",
   "metadata": {},
   "outputs": [],
   "source": [
    "auto.bore.fillna(auto.bore.mean() ,inplace=True)"
   ]
  },
  {
   "cell_type": "code",
   "execution_count": 12,
   "id": "2cce3966",
   "metadata": {},
   "outputs": [
    {
     "data": {
      "text/plain": [
       "symboling           0\n",
       "normalizedlosses    0\n",
       "make                0\n",
       "fueltype            0\n",
       "aspiration          0\n",
       "numofdoors          2\n",
       "bodystyle           0\n",
       "drivewheels         0\n",
       "enginelocation      0\n",
       "wheelbase           0\n",
       "length              0\n",
       "width               0\n",
       "height              0\n",
       "curbweight          0\n",
       "enginetype          0\n",
       "numofcylinders      0\n",
       "enginesize          0\n",
       "fuelsystem          0\n",
       "bore                0\n",
       "stroke              4\n",
       "compressionratio    0\n",
       "horsepower          2\n",
       "peakrpm             2\n",
       "citympg             0\n",
       "highwaympg          0\n",
       "price               4\n",
       "dtype: int64"
      ]
     },
     "execution_count": 12,
     "metadata": {},
     "output_type": "execute_result"
    }
   ],
   "source": [
    "auto.isnull().sum()"
   ]
  },
  {
   "cell_type": "code",
   "execution_count": 13,
   "id": "7c7c4771",
   "metadata": {},
   "outputs": [],
   "source": [
    "auto.stroke.fillna(auto.stroke.mean(),inplace=True)"
   ]
  },
  {
   "cell_type": "code",
   "execution_count": 14,
   "id": "7f035b3c",
   "metadata": {},
   "outputs": [],
   "source": [
    "auto.horsepower.fillna(auto.horsepower.mean() ,inplace=True)"
   ]
  },
  {
   "cell_type": "code",
   "execution_count": 15,
   "id": "225fd5d7",
   "metadata": {},
   "outputs": [],
   "source": [
    "auto.peakrpm.fillna(auto.peakrpm.mean(),inplace=True)"
   ]
  },
  {
   "cell_type": "code",
   "execution_count": 16,
   "id": "abf922a0",
   "metadata": {},
   "outputs": [],
   "source": [
    "auto.price.fillna(auto.price.mean(),inplace=True)"
   ]
  },
  {
   "cell_type": "code",
   "execution_count": 17,
   "id": "3a5abde0",
   "metadata": {},
   "outputs": [],
   "source": [
    "auto.price.fillna(auto.numofdoors.mode(),inplace=True)"
   ]
  },
  {
   "cell_type": "code",
   "execution_count": 18,
   "id": "1c08effd",
   "metadata": {
    "scrolled": true
   },
   "outputs": [
    {
     "data": {
      "text/plain": [
       "symboling           0\n",
       "normalizedlosses    0\n",
       "make                0\n",
       "fueltype            0\n",
       "aspiration          0\n",
       "numofdoors          2\n",
       "bodystyle           0\n",
       "drivewheels         0\n",
       "enginelocation      0\n",
       "wheelbase           0\n",
       "length              0\n",
       "width               0\n",
       "height              0\n",
       "curbweight          0\n",
       "enginetype          0\n",
       "numofcylinders      0\n",
       "enginesize          0\n",
       "fuelsystem          0\n",
       "bore                0\n",
       "stroke              0\n",
       "compressionratio    0\n",
       "horsepower          0\n",
       "peakrpm             0\n",
       "citympg             0\n",
       "highwaympg          0\n",
       "price               0\n",
       "dtype: int64"
      ]
     },
     "execution_count": 18,
     "metadata": {},
     "output_type": "execute_result"
    }
   ],
   "source": [
    "auto.isnull().sum()"
   ]
  },
  {
   "cell_type": "code",
   "execution_count": 19,
   "id": "c8f54c61",
   "metadata": {},
   "outputs": [
    {
     "name": "stdout",
     "output_type": "stream",
     "text": [
      "<class 'pandas.core.frame.DataFrame'>\n",
      "RangeIndex: 205 entries, 0 to 204\n",
      "Data columns (total 26 columns):\n",
      " #   Column            Non-Null Count  Dtype  \n",
      "---  ------            --------------  -----  \n",
      " 0   symboling         205 non-null    int64  \n",
      " 1   normalizedlosses  205 non-null    float64\n",
      " 2   make              205 non-null    object \n",
      " 3   fueltype          205 non-null    object \n",
      " 4   aspiration        205 non-null    object \n",
      " 5   numofdoors        203 non-null    object \n",
      " 6   bodystyle         205 non-null    object \n",
      " 7   drivewheels       205 non-null    object \n",
      " 8   enginelocation    205 non-null    object \n",
      " 9   wheelbase         205 non-null    float64\n",
      " 10  length            205 non-null    float64\n",
      " 11  width             205 non-null    float64\n",
      " 12  height            205 non-null    float64\n",
      " 13  curbweight        205 non-null    int64  \n",
      " 14  enginetype        205 non-null    object \n",
      " 15  numofcylinders    205 non-null    object \n",
      " 16  enginesize        205 non-null    int64  \n",
      " 17  fuelsystem        205 non-null    object \n",
      " 18  bore              205 non-null    float64\n",
      " 19  stroke            205 non-null    float64\n",
      " 20  compressionratio  205 non-null    float64\n",
      " 21  horsepower        205 non-null    float64\n",
      " 22  peakrpm           205 non-null    float64\n",
      " 23  citympg           205 non-null    int64  \n",
      " 24  highwaympg        205 non-null    int64  \n",
      " 25  price             205 non-null    float64\n",
      "dtypes: float64(11), int64(5), object(10)\n",
      "memory usage: 41.8+ KB\n"
     ]
    }
   ],
   "source": [
    "auto.info()\n"
   ]
  },
  {
   "cell_type": "code",
   "execution_count": 20,
   "id": "6009f9b4",
   "metadata": {},
   "outputs": [
    {
     "data": {
      "text/plain": [
       "(array([ 3.,  0., 22.,  0., 67.,  0., 54.,  0., 32., 27.]),\n",
       " array([-2. , -1.5, -1. , -0.5,  0. ,  0.5,  1. ,  1.5,  2. ,  2.5,  3. ]),\n",
       " <BarContainer object of 10 artists>)"
      ]
     },
     "execution_count": 20,
     "metadata": {},
     "output_type": "execute_result"
    },
    {
     "data": {
      "image/png": "[encoded data removed]",
      "text/plain": [
       "<Figure size 432x288 with 1 Axes>"
      ]
     },
     "metadata": {
      "needs_background": "light"
     },
     "output_type": "display_data"
    }
   ],
   "source": [
    "plt.hist(auto.symboling)\n"
   ]
  },
  {
   "cell_type": "code",
   "execution_count": 21,
   "id": "2f6b32d3",
   "metadata": {},
   "outputs": [
    {
     "data": {
      "text/plain": [
       "{'whiskers': [<matplotlib.lines.Line2D at 0x23626cc76a0>,\n",
       "  <matplotlib.lines.Line2D at 0x23626cc7970>],\n",
       " 'caps': [<matplotlib.lines.Line2D at 0x23626cc7d00>,\n",
       "  <matplotlib.lines.Line2D at 0x23626cd30d0>],\n",
       " 'boxes': [<matplotlib.lines.Line2D at 0x23626cc7250>],\n",
       " 'medians': [<matplotlib.lines.Line2D at 0x23626cd3460>],\n",
       " 'fliers': [<matplotlib.lines.Line2D at 0x23626cd37f0>],\n",
       " 'means': []}"
      ]
     },
     "execution_count": 21,
     "metadata": {},
     "output_type": "execute_result"
    },
    {
     "data": {
      "image/png": "[encoded data removed]",
      "text/plain": [
       "<Figure size 432x288 with 1 Axes>"
      ]
     },
     "metadata": {
      "needs_background": "light"
     },
     "output_type": "display_data"
    }
   ],
   "source": [
    "plt.boxplot(auto.symboling)"
   ]
  },
  {
   "cell_type": "code",
   "execution_count": 22,
   "id": "1e3ee2fd",
   "metadata": {},
   "outputs": [],
   "source": [
    "from scipy import stats\n",
    "from statsmodels.stats.proportion import proportions_ztest"
   ]
  },
  {
   "cell_type": "code",
   "execution_count": 23,
   "id": "337878d2",
   "metadata": {},
   "outputs": [
    {
     "data": {
      "text/plain": [
       "ShapiroResult(statistic=0.9170166254043579, pvalue=2.519247477295039e-09)"
      ]
     },
     "execution_count": 23,
     "metadata": {},
     "output_type": "execute_result"
    }
   ],
   "source": [
    "stats.shapiro(auto.symboling)\n"
   ]
  },
  {
   "cell_type": "code",
   "execution_count": 24,
   "id": "fcd0eb67",
   "metadata": {},
   "outputs": [
    {
     "data": {
      "text/plain": [
       "{'whiskers': [<matplotlib.lines.Line2D at 0x23626d3c070>,\n",
       "  <matplotlib.lines.Line2D at 0x23626d3c400>],\n",
       " 'caps': [<matplotlib.lines.Line2D at 0x23626d3c790>,\n",
       "  <matplotlib.lines.Line2D at 0x23626d3cb20>],\n",
       " 'boxes': [<matplotlib.lines.Line2D at 0x23626d2eca0>],\n",
       " 'medians': [<matplotlib.lines.Line2D at 0x23626d3ceb0>],\n",
       " 'fliers': [<matplotlib.lines.Line2D at 0x23626d48280>],\n",
       " 'means': []}"
      ]
     },
     "execution_count": 24,
     "metadata": {},
     "output_type": "execute_result"
    },
    {
     "data": {
      "image/png": "[encoded data removed]",
      "text/plain": [
       "<Figure size 432x288 with 1 Axes>"
      ]
     },
     "metadata": {
      "needs_background": "light"
     },
     "output_type": "display_data"
    }
   ],
   "source": [
    "plt.boxplot(auto.normalizedlosses)"
   ]
  },
  {
   "cell_type": "code",
   "execution_count": 25,
   "id": "2881398f",
   "metadata": {},
   "outputs": [
    {
     "data": {
      "text/plain": [
       "(array([17., 46., 72., 20., 21., 18.,  9.,  0.,  1.,  1.]),\n",
       " array([ 65. ,  84.1, 103.2, 122.3, 141.4, 160.5, 179.6, 198.7, 217.8,\n",
       "        236.9, 256. ]),\n",
       " <BarContainer object of 10 artists>)"
      ]
     },
     "execution_count": 25,
     "metadata": {},
     "output_type": "execute_result"
    },
    {
     "data": {
      "image/png": "[encoded data removed]",
      "text/plain": [
       "<Figure size 432x288 with 1 Axes>"
      ]
     },
     "metadata": {
      "needs_background": "light"
     },
     "output_type": "display_data"
    }
   ],
   "source": [
    "plt.hist(auto.normalizedlosses)"
   ]
  },
  {
   "cell_type": "code",
   "execution_count": 26,
   "id": "ec368a29",
   "metadata": {},
   "outputs": [
    {
     "data": {
      "text/plain": [
       "ShapiroResult(statistic=0.9490930438041687, pvalue=1.1780501836256008e-06)"
      ]
     },
     "execution_count": 26,
     "metadata": {},
     "output_type": "execute_result"
    }
   ],
   "source": [
    "stats.shapiro(auto.normalizedlosses)"
   ]
  },
  {
   "cell_type": "code",
   "execution_count": 27,
   "id": "adb73602",
   "metadata": {},
   "outputs": [
    {
     "data": {
      "text/plain": [
       "{'whiskers': [<matplotlib.lines.Line2D at 0x23626e1fd60>,\n",
       "  <matplotlib.lines.Line2D at 0x23626e2f130>],\n",
       " 'caps': [<matplotlib.lines.Line2D at 0x23626e2f4c0>,\n",
       "  <matplotlib.lines.Line2D at 0x23626e2f850>],\n",
       " 'boxes': [<matplotlib.lines.Line2D at 0x23626e1f9d0>],\n",
       " 'medians': [<matplotlib.lines.Line2D at 0x23626e2fbe0>],\n",
       " 'fliers': [<matplotlib.lines.Line2D at 0x23626e2ff70>],\n",
       " 'means': []}"
      ]
     },
     "execution_count": 27,
     "metadata": {},
     "output_type": "execute_result"
    },
    {
     "data": {
      "image/png": "[encoded data removed]",
      "text/plain": [
       "<Figure size 432x288 with 1 Axes>"
      ]
     },
     "metadata": {
      "needs_background": "light"
     },
     "output_type": "display_data"
    }
   ],
   "source": [
    "plt.boxplot(auto.wheelbase)"
   ]
  },
  {
   "cell_type": "code",
   "execution_count": 28,
   "id": "ba15752d",
   "metadata": {},
   "outputs": [
    {
     "name": "stderr",
     "output_type": "stream",
     "text": [
      "C:\\anaconda\\lib\\site-packages\\seaborn\\_decorators.py:36: FutureWarning: Pass the following variable as a keyword arg: x. From version 0.12, the only valid positional argument will be `data`, and passing other arguments without an explicit keyword will result in an error or misinterpretation.\n",
      "  warnings.warn(\n"
     ]
    },
    {
     "data": {
      "text/plain": [
       "<AxesSubplot:xlabel='wheelbase', ylabel='count'>"
      ]
     },
     "execution_count": 28,
     "metadata": {},
     "output_type": "execute_result"
    },
    {
     "data": {
      "image/png": "[encoded data removed]",
      "text/plain": [
       "<Figure size 432x288 with 1 Axes>"
      ]
     },
     "metadata": {
      "needs_background": "light"
     },
     "output_type": "display_data"
    }
   ],
   "source": [
    "sns.countplot(auto.wheelbase,data=auto)\n"
   ]
  },
  {
   "cell_type": "raw",
   "id": "68be9546",
   "metadata": {},
   "source": []
  },
  {
   "cell_type": "code",
   "execution_count": 29,
   "id": "89f3997a",
   "metadata": {},
   "outputs": [
    {
     "data": {
      "text/plain": [
       "ShapiroResult(statistic=0.9115860462188721, pvalue=1.0368441660801864e-09)"
      ]
     },
     "execution_count": 29,
     "metadata": {},
     "output_type": "execute_result"
    }
   ],
   "source": [
    "stats.shapiro(auto.wheelbase)"
   ]
  },
  {
   "cell_type": "code",
   "execution_count": 30,
   "id": "b7cb1c77",
   "metadata": {},
   "outputs": [
    {
     "data": {
      "text/plain": [
       "{'whiskers': [<matplotlib.lines.Line2D at 0x23627ff2670>,\n",
       "  <matplotlib.lines.Line2D at 0x23627ff2a00>],\n",
       " 'caps': [<matplotlib.lines.Line2D at 0x23627ff2d90>,\n",
       "  <matplotlib.lines.Line2D at 0x23627ffa160>],\n",
       " 'boxes': [<matplotlib.lines.Line2D at 0x23627ff22e0>],\n",
       " 'medians': [<matplotlib.lines.Line2D at 0x23627ffa4f0>],\n",
       " 'fliers': [<matplotlib.lines.Line2D at 0x23627ffa880>],\n",
       " 'means': []}"
      ]
     },
     "execution_count": 30,
     "metadata": {},
     "output_type": "execute_result"
    },
    {
     "data": {
      "image/png": "[encoded data removed]",
      "text/plain": [
       "<Figure size 432x288 with 1 Axes>"
      ]
     },
     "metadata": {
      "needs_background": "light"
     },
     "output_type": "display_data"
    }
   ],
   "source": [
    "plt.boxplot(auto.enginesize)"
   ]
  },
  {
   "cell_type": "code",
   "execution_count": 31,
   "id": "681b68f9",
   "metadata": {},
   "outputs": [
    {
     "data": {
      "text/plain": [
       "(array([ 6., 95., 46., 30., 14.,  7.,  2.,  2.,  0.,  3.]),\n",
       " array([ 61. ,  87.5, 114. , 140.5, 167. , 193.5, 220. , 246.5, 273. ,\n",
       "        299.5, 326. ]),\n",
       " <BarContainer object of 10 artists>)"
      ]
     },
     "execution_count": 31,
     "metadata": {},
     "output_type": "execute_result"
    },
    {
     "data": {
      "image/png": "[encoded data removed]",
      "text/plain": [
       "<Figure size 432x288 with 1 Axes>"
      ]
     },
     "metadata": {
      "needs_background": "light"
     },
     "output_type": "display_data"
    }
   ],
   "source": [
    "plt.hist(auto.enginesize)"
   ]
  },
  {
   "cell_type": "code",
   "execution_count": 32,
   "id": "d3e8682b",
   "metadata": {},
   "outputs": [
    {
     "data": {
      "text/plain": [
       "ShapiroResult(statistic=0.8294388651847839, pvalue=3.0569154792128156e-14)"
      ]
     },
     "execution_count": 32,
     "metadata": {},
     "output_type": "execute_result"
    }
   ],
   "source": [
    "stats.shapiro(auto.enginesize) "
   ]
  },
  {
   "cell_type": "code",
   "execution_count": 33,
   "id": "e2507e0d",
   "metadata": {},
   "outputs": [
    {
     "name": "stderr",
     "output_type": "stream",
     "text": [
      "C:\\anaconda\\lib\\site-packages\\seaborn\\_decorators.py:36: FutureWarning: Pass the following variable as a keyword arg: x. From version 0.12, the only valid positional argument will be `data`, and passing other arguments without an explicit keyword will result in an error or misinterpretation.\n",
      "  warnings.warn(\n"
     ]
    },
    {
     "data": {
      "text/plain": [
       "<AxesSubplot:xlabel='enginesize', ylabel='count'>"
      ]
     },
     "execution_count": 33,
     "metadata": {},
     "output_type": "execute_result"
    },
    {
     "data": {
      "image/png": "[encoded data removed]",
      "text/plain": [
       "<Figure size 432x288 with 1 Axes>"
      ]
     },
     "metadata": {
      "needs_background": "light"
     },
     "output_type": "display_data"
    }
   ],
   "source": [
    "sns.countplot(auto.enginesize)"
   ]
  },
  {
   "cell_type": "code",
   "execution_count": 34,
   "id": "4924f984",
   "metadata": {},
   "outputs": [
    {
     "data": {
      "text/plain": [
       "{'whiskers': [<matplotlib.lines.Line2D at 0x236281f8e80>,\n",
       "  <matplotlib.lines.Line2D at 0x23628205250>],\n",
       " 'caps': [<matplotlib.lines.Line2D at 0x236282055e0>,\n",
       "  <matplotlib.lines.Line2D at 0x23628205970>],\n",
       " 'boxes': [<matplotlib.lines.Line2D at 0x236281f8af0>],\n",
       " 'medians': [<matplotlib.lines.Line2D at 0x23628205d00>],\n",
       " 'fliers': [<matplotlib.lines.Line2D at 0x236282140d0>],\n",
       " 'means': []}"
      ]
     },
     "execution_count": 34,
     "metadata": {},
     "output_type": "execute_result"
    },
    {
     "data": {
      "image/png": "[encoded data removed]",
      "text/plain": [
       "<Figure size 432x288 with 1 Axes>"
      ]
     },
     "metadata": {
      "needs_background": "light"
     },
     "output_type": "display_data"
    }
   ],
   "source": [
    "plt.boxplot(auto.length)"
   ]
  },
  {
   "cell_type": "code",
   "execution_count": 35,
   "id": "918d5d05",
   "metadata": {},
   "outputs": [
    {
     "data": {
      "text/plain": [
       "(array([ 3.,  3., 29., 23., 54., 39., 23., 20.,  8.,  3.]),\n",
       " array([141.1, 147.8, 154.5, 161.2, 167.9, 174.6, 181.3, 188. , 194.7,\n",
       "        201.4, 208.1]),\n",
       " <BarContainer object of 10 artists>)"
      ]
     },
     "execution_count": 35,
     "metadata": {},
     "output_type": "execute_result"
    },
    {
     "data": {
      "image/png": "[encoded data removed]",
      "text/plain": [
       "<Figure size 432x288 with 1 Axes>"
      ]
     },
     "metadata": {
      "needs_background": "light"
     },
     "output_type": "display_data"
    }
   ],
   "source": [
    "plt.hist(auto.length)"
   ]
  },
  {
   "cell_type": "code",
   "execution_count": 36,
   "id": "834f98c2",
   "metadata": {},
   "outputs": [
    {
     "data": {
      "text/plain": [
       "ShapiroResult(statistic=0.9820953607559204, pvalue=0.01036272943019867)"
      ]
     },
     "execution_count": 36,
     "metadata": {},
     "output_type": "execute_result"
    }
   ],
   "source": [
    "stats.shapiro(auto.length) "
   ]
  },
  {
   "cell_type": "code",
   "execution_count": 37,
   "id": "b828362e",
   "metadata": {},
   "outputs": [
    {
     "data": {
      "text/plain": [
       "{'whiskers': [<matplotlib.lines.Line2D at 0x236282e9250>,\n",
       "  <matplotlib.lines.Line2D at 0x236282e95e0>],\n",
       " 'caps': [<matplotlib.lines.Line2D at 0x236282e9970>,\n",
       "  <matplotlib.lines.Line2D at 0x236282e9d00>],\n",
       " 'boxes': [<matplotlib.lines.Line2D at 0x236282dbee0>],\n",
       " 'medians': [<matplotlib.lines.Line2D at 0x236282f50d0>],\n",
       " 'fliers': [<matplotlib.lines.Line2D at 0x236282f5460>],\n",
       " 'means': []}"
      ]
     },
     "execution_count": 37,
     "metadata": {},
     "output_type": "execute_result"
    },
    {
     "data": {
      "image/png": "[encoded data removed]",
      "text/plain": [
       "<Figure size 432x288 with 1 Axes>"
      ]
     },
     "metadata": {
      "needs_background": "light"
     },
     "output_type": "display_data"
    }
   ],
   "source": [
    "plt.boxplot(auto.width)"
   ]
  },
  {
   "cell_type": "code",
   "execution_count": 38,
   "id": "6a893baa",
   "metadata": {},
   "outputs": [
    {
     "data": {
      "text/plain": [
       "(array([ 1.,  2., 36., 39., 44., 42., 20.,  7.,  6.,  8.]),\n",
       " array([60.3, 61.5, 62.7, 63.9, 65.1, 66.3, 67.5, 68.7, 69.9, 71.1, 72.3]),\n",
       " <BarContainer object of 10 artists>)"
      ]
     },
     "execution_count": 38,
     "metadata": {},
     "output_type": "execute_result"
    },
    {
     "data": {
      "image/png": "[encoded data removed]",
      "text/plain": [
       "<Figure size 432x288 with 1 Axes>"
      ]
     },
     "metadata": {
      "needs_background": "light"
     },
     "output_type": "display_data"
    }
   ],
   "source": [
    "plt.hist(auto.width)"
   ]
  },
  {
   "cell_type": "code",
   "execution_count": 39,
   "id": "31b4dcb8",
   "metadata": {},
   "outputs": [
    {
     "data": {
      "text/plain": [
       "ShapiroResult(statistic=0.9210780262947083, pvalue=5.012857240416224e-09)"
      ]
     },
     "execution_count": 39,
     "metadata": {},
     "output_type": "execute_result"
    }
   ],
   "source": [
    "stats.shapiro(auto.width) "
   ]
  },
  {
   "cell_type": "code",
   "execution_count": 40,
   "id": "ec0d0e04",
   "metadata": {},
   "outputs": [
    {
     "data": {
      "text/plain": [
       "{'whiskers': [<matplotlib.lines.Line2D at 0x236283c48e0>,\n",
       "  <matplotlib.lines.Line2D at 0x236283c4c70>],\n",
       " 'caps': [<matplotlib.lines.Line2D at 0x236283d0040>,\n",
       "  <matplotlib.lines.Line2D at 0x236283d03d0>],\n",
       " 'boxes': [<matplotlib.lines.Line2D at 0x236283c4550>],\n",
       " 'medians': [<matplotlib.lines.Line2D at 0x236283d0760>],\n",
       " 'fliers': [<matplotlib.lines.Line2D at 0x236283d0af0>],\n",
       " 'means': []}"
      ]
     },
     "execution_count": 40,
     "metadata": {},
     "output_type": "execute_result"
    },
    {
     "data": {
      "image/png": "[encoded data removed]",
      "text/plain": [
       "<Figure size 432x288 with 1 Axes>"
      ]
     },
     "metadata": {
      "needs_background": "light"
     },
     "output_type": "display_data"
    }
   ],
   "source": [
    "plt.boxplot(auto.height)"
   ]
  },
  {
   "cell_type": "code",
   "execution_count": 41,
   "id": "cc5443a6",
   "metadata": {},
   "outputs": [
    {
     "data": {
      "text/plain": [
       "(array([ 3.,  9., 28., 25., 33., 41., 38., 15.,  4.,  9.]),\n",
       " array([47.8, 49. , 50.2, 51.4, 52.6, 53.8, 55. , 56.2, 57.4, 58.6, 59.8]),\n",
       " <BarContainer object of 10 artists>)"
      ]
     },
     "execution_count": 41,
     "metadata": {},
     "output_type": "execute_result"
    },
    {
     "data": {
      "image/png": "[encoded data removed]",
      "text/plain": [
       "<Figure size 432x288 with 1 Axes>"
      ]
     },
     "metadata": {
      "needs_background": "light"
     },
     "output_type": "display_data"
    }
   ],
   "source": [
    "plt.hist(auto.height)"
   ]
  },
  {
   "cell_type": "code",
   "execution_count": 42,
   "id": "0d513592",
   "metadata": {},
   "outputs": [
    {
     "ename": "SyntaxError",
     "evalue": "unexpected character after line continuation character (Temp/ipykernel_6980/1089977986.py, line 1)",
     "output_type": "error",
     "traceback": [
      "\u001b[1;36m  File \u001b[1;32m\"C:\\Users\\Mano\\AppData\\Local\\Temp/ipykernel_6980/1089977986.py\"\u001b[1;36m, line \u001b[1;32m1\u001b[0m\n\u001b[1;33m    \\stats.shapiro(auto.height)\u001b[0m\n\u001b[1;37m                               ^\u001b[0m\n\u001b[1;31mSyntaxError\u001b[0m\u001b[1;31m:\u001b[0m unexpected character after line continuation character\n"
     ]
    }
   ],
   "source": [
    "\n",
    "\\stats.shapiro(auto.height) "
   ]
  },
  {
   "cell_type": "code",
   "execution_count": null,
   "id": "1311ed8d",
   "metadata": {},
   "outputs": [],
   "source": [
    "plt.boxplot(auto.curbweight)"
   ]
  },
  {
   "cell_type": "code",
   "execution_count": null,
   "id": "64599a09",
   "metadata": {
    "scrolled": true
   },
   "outputs": [],
   "source": [
    "plt.hist(auto.curbweight)"
   ]
  },
  {
   "cell_type": "code",
   "execution_count": null,
   "id": "62c15c1a",
   "metadata": {},
   "outputs": [],
   "source": [
    "stats.shapiro(auto.curbweight) "
   ]
  },
  {
   "cell_type": "code",
   "execution_count": null,
   "id": "193adf3d",
   "metadata": {},
   "outputs": [],
   "source": [
    "plt.boxplot(auto.enginesize)"
   ]
  },
  {
   "cell_type": "code",
   "execution_count": null,
   "id": "945b6603",
   "metadata": {},
   "outputs": [],
   "source": [
    "plt.hist(auto.enginesize)"
   ]
  },
  {
   "cell_type": "code",
   "execution_count": null,
   "id": "969a0081",
   "metadata": {},
   "outputs": [],
   "source": [
    "stats.shapiro(auto.enginesize) "
   ]
  },
  {
   "cell_type": "code",
   "execution_count": 43,
   "id": "617e54bc",
   "metadata": {},
   "outputs": [
    {
     "data": {
      "text/plain": [
       "{'whiskers': [<matplotlib.lines.Line2D at 0x236284ac220>,\n",
       "  <matplotlib.lines.Line2D at 0x236284ac5b0>],\n",
       " 'caps': [<matplotlib.lines.Line2D at 0x236284ac940>,\n",
       "  <matplotlib.lines.Line2D at 0x236284accd0>],\n",
       " 'boxes': [<matplotlib.lines.Line2D at 0x2362849ae50>],\n",
       " 'medians': [<matplotlib.lines.Line2D at 0x236284b80a0>],\n",
       " 'fliers': [<matplotlib.lines.Line2D at 0x236284b8430>],\n",
       " 'means': []}"
      ]
     },
     "execution_count": 43,
     "metadata": {},
     "output_type": "execute_result"
    },
    {
     "data": {
      "image/png": "[encoded data removed]",
      "text/plain": [
       "<Figure size 432x288 with 1 Axes>"
      ]
     },
     "metadata": {
      "needs_background": "light"
     },
     "output_type": "display_data"
    }
   ],
   "source": [
    "plt.boxplot(auto.bore)"
   ]
  },
  {
   "cell_type": "code",
   "execution_count": 44,
   "id": "153bd23f",
   "metadata": {},
   "outputs": [
    {
     "data": {
      "text/plain": [
       "(array([ 1.,  1.,  8., 37., 40., 28., 27., 42., 17.,  4.]),\n",
       " array([2.54, 2.68, 2.82, 2.96, 3.1 , 3.24, 3.38, 3.52, 3.66, 3.8 , 3.94]),\n",
       " <BarContainer object of 10 artists>)"
      ]
     },
     "execution_count": 44,
     "metadata": {},
     "output_type": "execute_result"
    },
    {
     "data": {
      "image/png": "[encoded data removed]",
      "text/plain": [
       "<Figure size 432x288 with 1 Axes>"
      ]
     },
     "metadata": {
      "needs_background": "light"
     },
     "output_type": "display_data"
    }
   ],
   "source": [
    "plt.hist(auto.bore)"
   ]
  },
  {
   "cell_type": "code",
   "execution_count": 45,
   "id": "3987d7fc",
   "metadata": {},
   "outputs": [
    {
     "data": {
      "text/plain": [
       "ShapiroResult(statistic=0.967185378074646, pvalue=0.00010421191109344363)"
      ]
     },
     "execution_count": 45,
     "metadata": {},
     "output_type": "execute_result"
    }
   ],
   "source": [
    "stats.shapiro(auto.bore) "
   ]
  },
  {
   "cell_type": "code",
   "execution_count": 46,
   "id": "a8623bb6",
   "metadata": {},
   "outputs": [
    {
     "data": {
      "text/plain": [
       "{'whiskers': [<matplotlib.lines.Line2D at 0x23628592940>,\n",
       "  <matplotlib.lines.Line2D at 0x23628592cd0>],\n",
       " 'caps': [<matplotlib.lines.Line2D at 0x2362859e0a0>,\n",
       "  <matplotlib.lines.Line2D at 0x2362859e430>],\n",
       " 'boxes': [<matplotlib.lines.Line2D at 0x236285925b0>],\n",
       " 'medians': [<matplotlib.lines.Line2D at 0x2362859e7c0>],\n",
       " 'fliers': [<matplotlib.lines.Line2D at 0x2362859eb50>],\n",
       " 'means': []}"
      ]
     },
     "execution_count": 46,
     "metadata": {},
     "output_type": "execute_result"
    },
    {
     "data": {
      "image/png": "[encoded data removed]",
      "text/plain": [
       "<Figure size 432x288 with 1 Axes>"
      ]
     },
     "metadata": {
      "needs_background": "light"
     },
     "output_type": "display_data"
    }
   ],
   "source": [
    "plt.boxplot(auto.stroke)"
   ]
  },
  {
   "cell_type": "code",
   "execution_count": 47,
   "id": "f8312a9a",
   "metadata": {},
   "outputs": [
    {
     "data": {
      "text/plain": [
       "(array([ 3.,  1., 13.,  7., 30., 56., 71., 15.,  7.,  2.]),\n",
       " array([2.07, 2.28, 2.49, 2.7 , 2.91, 3.12, 3.33, 3.54, 3.75, 3.96, 4.17]),\n",
       " <BarContainer object of 10 artists>)"
      ]
     },
     "execution_count": 47,
     "metadata": {},
     "output_type": "execute_result"
    },
    {
     "data": {
      "image/png": "[encoded data removed]",
      "text/plain": [
       "<Figure size 432x288 with 1 Axes>"
      ]
     },
     "metadata": {
      "needs_background": "light"
     },
     "output_type": "display_data"
    }
   ],
   "source": [
    "plt.hist(auto.stroke)"
   ]
  },
  {
   "cell_type": "code",
   "execution_count": 48,
   "id": "df61780c",
   "metadata": {},
   "outputs": [
    {
     "data": {
      "text/plain": [
       "ShapiroResult(statistic=0.9377973675727844, pvalue=1.0984009435333064e-07)"
      ]
     },
     "execution_count": 48,
     "metadata": {},
     "output_type": "execute_result"
    }
   ],
   "source": [
    "stats.shapiro(auto.stroke) "
   ]
  },
  {
   "cell_type": "code",
   "execution_count": 49,
   "id": "2e3042b5",
   "metadata": {},
   "outputs": [
    {
     "data": {
      "text/plain": [
       "{'whiskers': [<matplotlib.lines.Line2D at 0x2362864e100>,\n",
       "  <matplotlib.lines.Line2D at 0x2362864e490>],\n",
       " 'caps': [<matplotlib.lines.Line2D at 0x2362864e820>,\n",
       "  <matplotlib.lines.Line2D at 0x2362864ebb0>],\n",
       " 'boxes': [<matplotlib.lines.Line2D at 0x23628641d30>],\n",
       " 'medians': [<matplotlib.lines.Line2D at 0x2362864ef40>],\n",
       " 'fliers': [<matplotlib.lines.Line2D at 0x23628656310>],\n",
       " 'means': []}"
      ]
     },
     "execution_count": 49,
     "metadata": {},
     "output_type": "execute_result"
    },
    {
     "data": {
      "image/png": "[encoded data removed]",
      "text/plain": [
       "<Figure size 432x288 with 1 Axes>"
      ]
     },
     "metadata": {
      "needs_background": "light"
     },
     "output_type": "display_data"
    }
   ],
   "source": [
    "plt.boxplot(auto.compressionratio)"
   ]
  },
  {
   "cell_type": "code",
   "execution_count": 50,
   "id": "74289725",
   "metadata": {},
   "outputs": [
    {
     "data": {
      "text/plain": [
       "(array([ 51., 133.,   1.,   0.,   0.,   0.,   0.,   0.,   5.,  15.]),\n",
       " array([ 7. ,  8.6, 10.2, 11.8, 13.4, 15. , 16.6, 18.2, 19.8, 21.4, 23. ]),\n",
       " <BarContainer object of 10 artists>)"
      ]
     },
     "execution_count": 50,
     "metadata": {},
     "output_type": "execute_result"
    },
    {
     "data": {
      "image/png": "[encoded data removed]",
      "text/plain": [
       "<Figure size 432x288 with 1 Axes>"
      ]
     },
     "metadata": {
      "needs_background": "light"
     },
     "output_type": "display_data"
    }
   ],
   "source": [
    "plt.hist(auto.compressionratio)"
   ]
  },
  {
   "cell_type": "code",
   "execution_count": 51,
   "id": "8834d7de",
   "metadata": {},
   "outputs": [
    {
     "data": {
      "text/plain": [
       "ShapiroResult(statistic=0.49774158000946045, pvalue=8.12114079238121e-24)"
      ]
     },
     "execution_count": 51,
     "metadata": {},
     "output_type": "execute_result"
    }
   ],
   "source": [
    "stats.shapiro(auto.compressionratio)"
   ]
  },
  {
   "cell_type": "code",
   "execution_count": 52,
   "id": "3ccd119e",
   "metadata": {},
   "outputs": [
    {
     "data": {
      "text/plain": [
       "{'whiskers': [<matplotlib.lines.Line2D at 0x2362872e880>,\n",
       "  <matplotlib.lines.Line2D at 0x2362872ec10>],\n",
       " 'caps': [<matplotlib.lines.Line2D at 0x2362872efa0>,\n",
       "  <matplotlib.lines.Line2D at 0x2362873b370>],\n",
       " 'boxes': [<matplotlib.lines.Line2D at 0x2362872e4f0>],\n",
       " 'medians': [<matplotlib.lines.Line2D at 0x2362873b700>],\n",
       " 'fliers': [<matplotlib.lines.Line2D at 0x2362873ba90>],\n",
       " 'means': []}"
      ]
     },
     "execution_count": 52,
     "metadata": {},
     "output_type": "execute_result"
    },
    {
     "data": {
      "image/png": "[encoded data removed]",
      "text/plain": [
       "<Figure size 432x288 with 1 Axes>"
      ]
     },
     "metadata": {
      "needs_background": "light"
     },
     "output_type": "display_data"
    }
   ],
   "source": [
    "plt.boxplot(auto.horsepower)"
   ]
  },
  {
   "cell_type": "code",
   "execution_count": 53,
   "id": "c9069c55",
   "metadata": {},
   "outputs": [
    {
     "data": {
      "text/plain": [
       "(array([55., 49., 51., 13., 23.,  8.,  4.,  0.,  1.,  1.]),\n",
       " array([ 48.,  72.,  96., 120., 144., 168., 192., 216., 240., 264., 288.]),\n",
       " <BarContainer object of 10 artists>)"
      ]
     },
     "execution_count": 53,
     "metadata": {},
     "output_type": "execute_result"
    },
    {
     "data": {
      "image/png": "[encoded data removed]",
      "text/plain": [
       "<Figure size 432x288 with 1 Axes>"
      ]
     },
     "metadata": {
      "needs_background": "light"
     },
     "output_type": "display_data"
    }
   ],
   "source": [
    "plt.hist(auto.horsepower)"
   ]
  },
  {
   "cell_type": "code",
   "execution_count": 54,
   "id": "8dd7e40c",
   "metadata": {},
   "outputs": [
    {
     "data": {
      "text/plain": [
       "ShapiroResult(statistic=0.8850876688957214, pvalue=2.11449850684442e-11)"
      ]
     },
     "execution_count": 54,
     "metadata": {},
     "output_type": "execute_result"
    }
   ],
   "source": [
    "stats.shapiro(auto.horsepower)"
   ]
  },
  {
   "cell_type": "code",
   "execution_count": 55,
   "id": "03364d1a",
   "metadata": {},
   "outputs": [
    {
     "data": {
      "text/plain": [
       "{'whiskers': [<matplotlib.lines.Line2D at 0x23628804970>,\n",
       "  <matplotlib.lines.Line2D at 0x23628804d00>],\n",
       " 'caps': [<matplotlib.lines.Line2D at 0x236288100d0>,\n",
       "  <matplotlib.lines.Line2D at 0x23628810460>],\n",
       " 'boxes': [<matplotlib.lines.Line2D at 0x236288045e0>],\n",
       " 'medians': [<matplotlib.lines.Line2D at 0x236288107f0>],\n",
       " 'fliers': [<matplotlib.lines.Line2D at 0x23628810b80>],\n",
       " 'means': []}"
      ]
     },
     "execution_count": 55,
     "metadata": {},
     "output_type": "execute_result"
    },
    {
     "data": {
      "image/png": "[encoded data removed]",
      "text/plain": [
       "<Figure size 432x288 with 1 Axes>"
      ]
     },
     "metadata": {
      "needs_background": "light"
     },
     "output_type": "display_data"
    }
   ],
   "source": [
    "plt.boxplot(auto.peakrpm)"
   ]
  },
  {
   "cell_type": "code",
   "execution_count": 56,
   "id": "2d4dc867",
   "metadata": {},
   "outputs": [
    {
     "data": {
      "text/plain": [
       "(array([17., 10., 41., 33., 31., 51.,  8., 12.,  0.,  2.]),\n",
       " array([4150., 4395., 4640., 4885., 5130., 5375., 5620., 5865., 6110.,\n",
       "        6355., 6600.]),\n",
       " <BarContainer object of 10 artists>)"
      ]
     },
     "execution_count": 56,
     "metadata": {},
     "output_type": "execute_result"
    },
    {
     "data": {
      "image/png": "[encoded data removed]",
      "text/plain": [
       "<Figure size 432x288 with 1 Axes>"
      ]
     },
     "metadata": {
      "needs_background": "light"
     },
     "output_type": "display_data"
    }
   ],
   "source": [
    "plt.hist(auto.peakrpm)"
   ]
  },
  {
   "cell_type": "code",
   "execution_count": 57,
   "id": "fb8074d1",
   "metadata": {},
   "outputs": [
    {
     "data": {
      "text/plain": [
       "ShapiroResult(statistic=0.9705138802528381, pvalue=0.000267903262283653)"
      ]
     },
     "execution_count": 57,
     "metadata": {},
     "output_type": "execute_result"
    }
   ],
   "source": [
    "stats.shapiro(auto.peakrpm)"
   ]
  },
  {
   "cell_type": "code",
   "execution_count": 58,
   "id": "0d7dd8e7",
   "metadata": {},
   "outputs": [
    {
     "data": {
      "text/plain": [
       "{'whiskers': [<matplotlib.lines.Line2D at 0x236288dd6d0>,\n",
       "  <matplotlib.lines.Line2D at 0x236288dda60>],\n",
       " 'caps': [<matplotlib.lines.Line2D at 0x236288dddf0>,\n",
       "  <matplotlib.lines.Line2D at 0x236288ea1c0>],\n",
       " 'boxes': [<matplotlib.lines.Line2D at 0x236288dd340>],\n",
       " 'medians': [<matplotlib.lines.Line2D at 0x236288ea550>],\n",
       " 'fliers': [<matplotlib.lines.Line2D at 0x236288ea8e0>],\n",
       " 'means': []}"
      ]
     },
     "execution_count": 58,
     "metadata": {},
     "output_type": "execute_result"
    },
    {
     "data": {
      "image/png": "[encoded data removed]",
      "text/plain": [
       "<Figure size 432x288 with 1 Axes>"
      ]
     },
     "metadata": {
      "needs_background": "light"
     },
     "output_type": "display_data"
    }
   ],
   "source": [
    "plt.boxplot(auto.citympg)"
   ]
  },
  {
   "cell_type": "code",
   "execution_count": 59,
   "id": "d35e12a9",
   "metadata": {},
   "outputs": [
    {
     "data": {
      "text/plain": [
       "(array([12., 46., 24., 56., 18., 31., 15.,  0.,  1.,  2.]),\n",
       " array([13. , 16.6, 20.2, 23.8, 27.4, 31. , 34.6, 38.2, 41.8, 45.4, 49. ]),\n",
       " <BarContainer object of 10 artists>)"
      ]
     },
     "execution_count": 59,
     "metadata": {},
     "output_type": "execute_result"
    },
    {
     "data": {
      "image/png": "[encoded data removed]",
      "text/plain": [
       "<Figure size 432x288 with 1 Axes>"
      ]
     },
     "metadata": {
      "needs_background": "light"
     },
     "output_type": "display_data"
    }
   ],
   "source": [
    "plt.hist(auto.citympg)"
   ]
  },
  {
   "cell_type": "code",
   "execution_count": 60,
   "id": "c1e832d9",
   "metadata": {},
   "outputs": [
    {
     "data": {
      "text/plain": [
       "ShapiroResult(statistic=0.9572238922119141, pvalue=7.825866305211093e-06)"
      ]
     },
     "execution_count": 60,
     "metadata": {},
     "output_type": "execute_result"
    }
   ],
   "source": [
    "stats.shapiro(auto.citympg)"
   ]
  },
  {
   "cell_type": "code",
   "execution_count": 61,
   "id": "553749f2",
   "metadata": {},
   "outputs": [
    {
     "data": {
      "text/plain": [
       "ShapiroResult(statistic=0.9735103845596313, pvalue=0.0006515368004329503)"
      ]
     },
     "execution_count": 61,
     "metadata": {},
     "output_type": "execute_result"
    }
   ],
   "source": [
    "stats.shapiro(auto.highwaympg)"
   ]
  },
  {
   "cell_type": "code",
   "execution_count": 62,
   "id": "b7d2533d",
   "metadata": {},
   "outputs": [
    {
     "data": {
      "text/plain": [
       "(array([ 7., 17., 44., 47., 39., 32.,  8.,  6.,  3.,  2.]),\n",
       " array([16. , 19.8, 23.6, 27.4, 31.2, 35. , 38.8, 42.6, 46.4, 50.2, 54. ]),\n",
       " <BarContainer object of 10 artists>)"
      ]
     },
     "execution_count": 62,
     "metadata": {},
     "output_type": "execute_result"
    },
    {
     "data": {
      "image/png": "[encoded data removed]",
      "text/plain": [
       "<Figure size 432x288 with 1 Axes>"
      ]
     },
     "metadata": {
      "needs_background": "light"
     },
     "output_type": "display_data"
    }
   ],
   "source": [
    "plt.hist(auto.highwaympg)"
   ]
  },
  {
   "cell_type": "code",
   "execution_count": 63,
   "id": "78749084",
   "metadata": {},
   "outputs": [
    {
     "data": {
      "text/plain": [
       "{'whiskers': [<matplotlib.lines.Line2D at 0x23629a17370>,\n",
       "  <matplotlib.lines.Line2D at 0x23629a17700>],\n",
       " 'caps': [<matplotlib.lines.Line2D at 0x23629a17a90>,\n",
       "  <matplotlib.lines.Line2D at 0x23629a17e20>],\n",
       " 'boxes': [<matplotlib.lines.Line2D at 0x23629a06fa0>],\n",
       " 'medians': [<matplotlib.lines.Line2D at 0x23629a211f0>],\n",
       " 'fliers': [<matplotlib.lines.Line2D at 0x23629a21580>],\n",
       " 'means': []}"
      ]
     },
     "execution_count": 63,
     "metadata": {},
     "output_type": "execute_result"
    },
    {
     "data": {
      "image/png": "[encoded data removed]",
      "text/plain": [
       "<Figure size 432x288 with 1 Axes>"
      ]
     },
     "metadata": {
      "needs_background": "light"
     },
     "output_type": "display_data"
    }
   ],
   "source": [
    "plt.boxplot(auto.highwaympg)"
   ]
  },
  {
   "cell_type": "code",
   "execution_count": 64,
   "id": "326820ed",
   "metadata": {},
   "outputs": [
    {
     "data": {
      "text/plain": [
       "{'whiskers': [<matplotlib.lines.Line2D at 0x23629a76e50>,\n",
       "  <matplotlib.lines.Line2D at 0x23629a87220>],\n",
       " 'caps': [<matplotlib.lines.Line2D at 0x23629a875b0>,\n",
       "  <matplotlib.lines.Line2D at 0x23629a87940>],\n",
       " 'boxes': [<matplotlib.lines.Line2D at 0x23629a76ac0>],\n",
       " 'medians': [<matplotlib.lines.Line2D at 0x23629a87cd0>],\n",
       " 'fliers': [<matplotlib.lines.Line2D at 0x23629a950a0>],\n",
       " 'means': []}"
      ]
     },
     "execution_count": 64,
     "metadata": {},
     "output_type": "execute_result"
    },
    {
     "data": {
      "image/png": "[encoded data removed]",
      "text/plain": [
       "<Figure size 432x288 with 1 Axes>"
      ]
     },
     "metadata": {
      "needs_background": "light"
     },
     "output_type": "display_data"
    }
   ],
   "source": [
    "plt.boxplot(auto.price)"
   ]
  },
  {
   "cell_type": "code",
   "execution_count": 65,
   "id": "de1f0eb6",
   "metadata": {},
   "outputs": [
    {
     "data": {
      "text/plain": [
       "(array([81., 45., 39., 17.,  6.,  3.,  4.,  7.,  2.,  1.]),\n",
       " array([ 5118. ,  9146.2, 13174.4, 17202.6, 21230.8, 25259. , 29287.2,\n",
       "        33315.4, 37343.6, 41371.8, 45400. ]),\n",
       " <BarContainer object of 10 artists>)"
      ]
     },
     "execution_count": 65,
     "metadata": {},
     "output_type": "execute_result"
    },
    {
     "data": {
      "image/png": "[encoded data removed]",
      "text/plain": [
       "<Figure size 432x288 with 1 Axes>"
      ]
     },
     "metadata": {
      "needs_background": "light"
     },
     "output_type": "display_data"
    }
   ],
   "source": [
    "plt.hist(auto.price)"
   ]
  },
  {
   "cell_type": "code",
   "execution_count": 66,
   "id": "c177da58",
   "metadata": {},
   "outputs": [
    {
     "data": {
      "text/plain": [
       "ShapiroResult(statistic=0.7997004985809326, pvalue=1.691838515494677e-15)"
      ]
     },
     "execution_count": 66,
     "metadata": {},
     "output_type": "execute_result"
    }
   ],
   "source": [
    "stats.shapiro(auto.price)"
   ]
  },
  {
   "cell_type": "code",
   "execution_count": 67,
   "id": "3c037cf1",
   "metadata": {},
   "outputs": [
    {
     "data": {
      "text/plain": [
       "(205, 26)"
      ]
     },
     "execution_count": 67,
     "metadata": {},
     "output_type": "execute_result"
    }
   ],
   "source": [
    "auto.shape"
   ]
  },
  {
   "cell_type": "code",
   "execution_count": 74,
   "id": "3eded75a",
   "metadata": {
    "scrolled": true
   },
   "outputs": [
    {
     "data": {
      "text/plain": [
       "Index(['symboling', 'normalizedlosses', 'make', 'fueltype', 'aspiration',\n",
       "       'numofdoors', 'bodystyle', 'drivewheels', 'enginelocation', 'wheelbase',\n",
       "       'length', 'width', 'height', 'curbweight', 'enginetype',\n",
       "       'numofcylinders', 'enginesize', 'fuelsystem', 'bore', 'stroke',\n",
       "       'compressionratio', 'horsepower', 'peakrpm', 'citympg', 'highwaympg',\n",
       "       'price'],\n",
       "      dtype='object')"
      ]
     },
     "execution_count": 74,
     "metadata": {},
     "output_type": "execute_result"
    }
   ],
   "source": [
    "auto.columns"
   ]
  },
  {
   "cell_type": "code",
   "execution_count": 75,
   "id": "6122ad09",
   "metadata": {},
   "outputs": [
    {
     "data": {
      "text/plain": [
       "<AxesSubplot:xlabel='numofdoors', ylabel='count'>"
      ]
     },
     "execution_count": 75,
     "metadata": {},
     "output_type": "execute_result"
    },
    {
     "data": {
      "image/png": "[encoded data removed]",
      "text/plain": [
       "<Figure size 432x288 with 1 Axes>"
      ]
     },
     "metadata": {
      "needs_background": "light"
     },
     "output_type": "display_data"
    }
   ],
   "source": [
    "sns.countplot(x=auto.numofdoors,data=auto)"
   ]
  },
  {
   "cell_type": "code",
   "execution_count": 76,
   "id": "918699cb",
   "metadata": {},
   "outputs": [
    {
     "data": {
      "text/plain": [
       "<AxesSubplot:xlabel='bodystyle', ylabel='count'>"
      ]
     },
     "execution_count": 76,
     "metadata": {},
     "output_type": "execute_result"
    },
    {
     "data": {
      "image/png": "[encoded data removed]",
      "text/plain": [
       "<Figure size 432x288 with 1 Axes>"
      ]
     },
     "metadata": {
      "needs_background": "light"
     },
     "output_type": "display_data"
    }
   ],
   "source": [
    "sns.countplot(x=auto.bodystyle,data=auto)"
   ]
  },
  {
   "cell_type": "code",
   "execution_count": 77,
   "id": "4d5d9e89",
   "metadata": {},
   "outputs": [
    {
     "data": {
      "text/plain": [
       "<AxesSubplot:xlabel='make', ylabel='count'>"
      ]
     },
     "execution_count": 77,
     "metadata": {},
     "output_type": "execute_result"
    },
    {
     "data": {
      "image/png": "[encoded data removed]",
      "text/plain": [
       "<Figure size 432x288 with 1 Axes>"
      ]
     },
     "metadata": {
      "needs_background": "light"
     },
     "output_type": "display_data"
    }
   ],
   "source": [
    "sns.countplot(x=auto.make,data=auto)\n"
   ]
  },
  {
   "cell_type": "code",
   "execution_count": 78,
   "id": "346214f5",
   "metadata": {
    "scrolled": true
   },
   "outputs": [
    {
     "data": {
      "text/plain": [
       "<AxesSubplot:xlabel='fueltype', ylabel='count'>"
      ]
     },
     "execution_count": 78,
     "metadata": {},
     "output_type": "execute_result"
    },
    {
     "data": {
      "image/png": "[encoded data removed]",
      "text/plain": [
       "<Figure size 432x288 with 1 Axes>"
      ]
     },
     "metadata": {
      "needs_background": "light"
     },
     "output_type": "display_data"
    }
   ],
   "source": [
    "sns.countplot(x=auto.fueltype,data=auto)\n"
   ]
  },
  {
   "cell_type": "code",
   "execution_count": 79,
   "id": "9a05ae8c",
   "metadata": {},
   "outputs": [
    {
     "data": {
      "text/plain": [
       "<AxesSubplot:xlabel='aspiration', ylabel='count'>"
      ]
     },
     "execution_count": 79,
     "metadata": {},
     "output_type": "execute_result"
    },
    {
     "data": {
      "image/png": "[encoded data removed]",
      "text/plain": [
       "<Figure size 432x288 with 1 Axes>"
      ]
     },
     "metadata": {
      "needs_background": "light"
     },
     "output_type": "display_data"
    }
   ],
   "source": [
    "sns.countplot(x=auto.aspiration,data=auto)"
   ]
  },
  {
   "cell_type": "code",
   "execution_count": 80,
   "id": "deec29f7",
   "metadata": {},
   "outputs": [
    {
     "data": {
      "text/plain": [
       "<AxesSubplot:xlabel='drivewheels', ylabel='count'>"
      ]
     },
     "execution_count": 80,
     "metadata": {},
     "output_type": "execute_result"
    },
    {
     "data": {
      "image/png": "[encoded data removed]",
      "text/plain": [
       "<Figure size 432x288 with 1 Axes>"
      ]
     },
     "metadata": {
      "needs_background": "light"
     },
     "output_type": "display_data"
    }
   ],
   "source": [
    "sns.countplot(x=auto.drivewheels,data=auto)"
   ]
  },
  {
   "cell_type": "code",
   "execution_count": 81,
   "id": "ee2739a5",
   "metadata": {},
   "outputs": [
    {
     "data": {
      "text/plain": [
       "<AxesSubplot:xlabel='enginelocation', ylabel='count'>"
      ]
     },
     "execution_count": 81,
     "metadata": {},
     "output_type": "execute_result"
    },
    {
     "data": {
      "image/png": "[encoded data removed]",
      "text/plain": [
       "<Figure size 432x288 with 1 Axes>"
      ]
     },
     "metadata": {
      "needs_background": "light"
     },
     "output_type": "display_data"
    }
   ],
   "source": [
    "sns.countplot(x=auto.enginelocation,data=auto)"
   ]
  },
  {
   "cell_type": "code",
   "execution_count": 82,
   "id": "5a256975",
   "metadata": {},
   "outputs": [
    {
     "data": {
      "text/plain": [
       "<AxesSubplot:xlabel='enginetype', ylabel='count'>"
      ]
     },
     "execution_count": 82,
     "metadata": {},
     "output_type": "execute_result"
    },
    {
     "data": {
      "image/png": "[encoded data removed]",
      "text/plain": [
       "<Figure size 432x288 with 1 Axes>"
      ]
     },
     "metadata": {
      "needs_background": "light"
     },
     "output_type": "display_data"
    }
   ],
   "source": [
    "sns.countplot(x=auto.enginetype,data=auto)"
   ]
  },
  {
   "cell_type": "code",
   "execution_count": 83,
   "id": "241734e6",
   "metadata": {},
   "outputs": [
    {
     "data": {
      "text/plain": [
       "<AxesSubplot:xlabel='numofcylinders', ylabel='count'>"
      ]
     },
     "execution_count": 83,
     "metadata": {},
     "output_type": "execute_result"
    },
    {
     "data": {
      "image/png": "[encoded data removed]",
      "text/plain": [
       "<Figure size 432x288 with 1 Axes>"
      ]
     },
     "metadata": {
      "needs_background": "light"
     },
     "output_type": "display_data"
    }
   ],
   "source": [
    "sns.countplot(x=auto.numofcylinders,data=auto)"
   ]
  },
  {
   "cell_type": "code",
   "execution_count": 84,
   "id": "0182df47",
   "metadata": {},
   "outputs": [
    {
     "data": {
      "text/plain": [
       "<AxesSubplot:xlabel='enginesize', ylabel='count'>"
      ]
     },
     "execution_count": 84,
     "metadata": {},
     "output_type": "execute_result"
    },
    {
     "data": {
      "image/png": "[encoded data removed]",
      "text/plain": [
       "<Figure size 432x288 with 1 Axes>"
      ]
     },
     "metadata": {
      "needs_background": "light"
     },
     "output_type": "display_data"
    }
   ],
   "source": [
    "sns.countplot(x=auto.enginesize,data=auto)"
   ]
  },
  {
   "cell_type": "code",
   "execution_count": 85,
   "id": "6baede00",
   "metadata": {},
   "outputs": [
    {
     "data": {
      "text/plain": [
       "<AxesSubplot:xlabel='symboling', ylabel='count'>"
      ]
     },
     "execution_count": 85,
     "metadata": {},
     "output_type": "execute_result"
    },
    {
     "data": {
      "image/png": "[encoded data removed]",
      "text/plain": [
       "<Figure size 432x288 with 1 Axes>"
      ]
     },
     "metadata": {
      "needs_background": "light"
     },
     "output_type": "display_data"
    }
   ],
   "source": [
    "sns.countplot(x=auto.symboling,data=auto)"
   ]
  },
  {
   "cell_type": "code",
   "execution_count": 86,
   "id": "c107f37a",
   "metadata": {},
   "outputs": [],
   "source": [
    "auto.symboling=auto.symboling.replace(-2,'-ve_symboling')\n",
    "auto.symboling=auto.symboling.replace(-1,'-ve_symboling')"
   ]
  },
  {
   "cell_type": "code",
   "execution_count": 87,
   "id": "dff897a1",
   "metadata": {},
   "outputs": [],
   "source": [
    "auto.symboling=auto.symboling.replace(2,'+ve_symboling')\n",
    "auto.symboling=auto.symboling.replace(1,'+ve_symboling')\n",
    "auto.symboling=auto.symboling.replace(3,'+ve_symboling')"
   ]
  },
  {
   "cell_type": "code",
   "execution_count": 88,
   "id": "fbc423a1",
   "metadata": {},
   "outputs": [
    {
     "data": {
      "text/plain": [
       "<AxesSubplot:xlabel='symboling', ylabel='count'>"
      ]
     },
     "execution_count": 88,
     "metadata": {},
     "output_type": "execute_result"
    },
    {
     "data": {
      "image/png": "[encoded data removed]",
      "text/plain": [
       "<Figure size 432x288 with 1 Axes>"
      ]
     },
     "metadata": {
      "needs_background": "light"
     },
     "output_type": "display_data"
    }
   ],
   "source": [
    "sns.countplot(x=auto.symboling,data=auto)"
   ]
  },
  {
   "cell_type": "code",
   "execution_count": 89,
   "id": "864ff44f",
   "metadata": {},
   "outputs": [
    {
     "data": {
      "text/plain": [
       "<AxesSubplot:xlabel='symboling', ylabel='count'>"
      ]
     },
     "execution_count": 89,
     "metadata": {},
     "output_type": "execute_result"
    },
    {
     "data": {
      "image/png": "[encoded data removed]",
      "text/plain": [
       "<Figure size 432x288 with 1 Axes>"
      ]
     },
     "metadata": {
      "needs_background": "light"
     },
     "output_type": "display_data"
    }
   ],
   "source": [
    "sns.countplot(x=auto.symboling,order=['-ve_symboling',0,'+ve_symboling'])"
   ]
  },
  {
   "cell_type": "code",
   "execution_count": 90,
   "id": "95ec94ee",
   "metadata": {
    "scrolled": true
   },
   "outputs": [
    {
     "data": {
      "text/plain": [
       "F_onewayResult(statistic=6.37918208758077, pvalue=0.0020583987083095064)"
      ]
     },
     "execution_count": 90,
     "metadata": {},
     "output_type": "execute_result"
    }
   ],
   "source": [
    "stats.f_oneway(auto.price[auto.symboling=='-ve_symboling'],auto.price[auto.symboling==0],auto.price[auto.symboling=='+ve_symboling'])"
   ]
  },
  {
   "cell_type": "code",
   "execution_count": 91,
   "id": "4b811010",
   "metadata": {},
   "outputs": [
    {
     "data": {
      "text/plain": [
       "F_onewayResult(statistic=2.031213831499105, pvalue=0.13384689444291348)"
      ]
     },
     "execution_count": 91,
     "metadata": {},
     "output_type": "execute_result"
    }
   ],
   "source": [
    "stats.f_oneway(auto.horsepower [auto.symboling=='-ve_symboling'],auto.horsepower[auto.symboling==0],auto.horsepower[auto.symboling=='+ve_symboling'])"
   ]
  },
  {
   "cell_type": "code",
   "execution_count": 92,
   "id": "01c2aeda",
   "metadata": {},
   "outputs": [
    {
     "data": {
      "text/plain": [
       "F_onewayResult(statistic=3.129025870739701, pvalue=0.04588876702372706)"
      ]
     },
     "execution_count": 92,
     "metadata": {},
     "output_type": "execute_result"
    }
   ],
   "source": [
    "stats.f_oneway(auto.citympg[auto.symboling=='-ve_symboling'],auto.citympg[auto.symboling==0],auto.citympg[auto.symboling=='+ve_symboling'])"
   ]
  },
  {
   "cell_type": "code",
   "execution_count": 93,
   "id": "c31960c0",
   "metadata": {},
   "outputs": [],
   "source": [
    "trainx=auto"
   ]
  },
  {
   "cell_type": "code",
   "execution_count": 94,
   "id": "875cf1f7",
   "metadata": {},
   "outputs": [],
   "source": [
    "trainy=auto.citympg"
   ]
  },
  {
   "cell_type": "code",
   "execution_count": 95,
   "id": "216407b6",
   "metadata": {},
   "outputs": [],
   "source": [
    "trainy1=auto.highwaympg"
   ]
  },
  {
   "cell_type": "code",
   "execution_count": 96,
   "id": "b9085510",
   "metadata": {},
   "outputs": [],
   "source": [
    "trainx.drop(['citympg','highwaympg'],axis=1,inplace=True)"
   ]
  },
  {
   "cell_type": "code",
   "execution_count": 97,
   "id": "f5ad910c",
   "metadata": {},
   "outputs": [
    {
     "data": {
      "text/plain": [
       "Index(['symboling', 'normalizedlosses', 'make', 'fueltype', 'aspiration',\n",
       "       'numofdoors', 'bodystyle', 'drivewheels', 'enginelocation', 'wheelbase',\n",
       "       'length', 'width', 'height', 'curbweight', 'enginetype',\n",
       "       'numofcylinders', 'enginesize', 'fuelsystem', 'bore', 'stroke',\n",
       "       'compressionratio', 'horsepower', 'peakrpm', 'price'],\n",
       "      dtype='object')"
      ]
     },
     "execution_count": 97,
     "metadata": {},
     "output_type": "execute_result"
    }
   ],
   "source": [
    "trainx.columns"
   ]
  },
  {
   "cell_type": "code",
   "execution_count": 98,
   "id": "14c265b2",
   "metadata": {},
   "outputs": [
    {
     "name": "stderr",
     "output_type": "stream",
     "text": [
      "C:\\anaconda\\lib\\site-packages\\statsmodels\\tsa\\tsatools.py:142: FutureWarning: In a future version of pandas all arguments of concat except for the argument 'objs' will be keyword-only\n",
      "  x = pd.concat(x[::order], 1)\n"
     ]
    }
   ],
   "source": [
    "x=sm.add_constant(trainx)"
   ]
  },
  {
   "cell_type": "code",
   "execution_count": 99,
   "id": "c5ac1cd7",
   "metadata": {},
   "outputs": [
    {
     "data": {
      "text/html": [
       "<div>\n",
       "<style scoped>\n",
       "    .dataframe tbody tr th:only-of-type {\n",
       "        vertical-align: middle;\n",
       "    }\n",
       "\n",
       "    .dataframe tbody tr th {\n",
       "        vertical-align: top;\n",
       "    }\n",
       "\n",
       "    .dataframe thead th {\n",
       "        text-align: right;\n",
       "    }\n",
       "</style>\n",
       "<table border=\"1\" class=\"dataframe\">\n",
       "  <thead>\n",
       "    <tr style=\"text-align: right;\">\n",
       "      <th></th>\n",
       "      <th>const</th>\n",
       "      <th>symboling</th>\n",
       "      <th>normalizedlosses</th>\n",
       "      <th>make</th>\n",
       "      <th>fueltype</th>\n",
       "      <th>aspiration</th>\n",
       "      <th>numofdoors</th>\n",
       "      <th>bodystyle</th>\n",
       "      <th>drivewheels</th>\n",
       "      <th>enginelocation</th>\n",
       "      <th>...</th>\n",
       "      <th>enginetype</th>\n",
       "      <th>numofcylinders</th>\n",
       "      <th>enginesize</th>\n",
       "      <th>fuelsystem</th>\n",
       "      <th>bore</th>\n",
       "      <th>stroke</th>\n",
       "      <th>compressionratio</th>\n",
       "      <th>horsepower</th>\n",
       "      <th>peakrpm</th>\n",
       "      <th>price</th>\n",
       "    </tr>\n",
       "  </thead>\n",
       "  <tbody>\n",
       "    <tr>\n",
       "      <th>0</th>\n",
       "      <td>1.0</td>\n",
       "      <td>+ve_symboling</td>\n",
       "      <td>122.0</td>\n",
       "      <td>alfa-romero</td>\n",
       "      <td>gas</td>\n",
       "      <td>std</td>\n",
       "      <td>two</td>\n",
       "      <td>convertible</td>\n",
       "      <td>rwd</td>\n",
       "      <td>front</td>\n",
       "      <td>...</td>\n",
       "      <td>dohc</td>\n",
       "      <td>four</td>\n",
       "      <td>130</td>\n",
       "      <td>mpfi</td>\n",
       "      <td>3.47</td>\n",
       "      <td>2.68</td>\n",
       "      <td>9.0</td>\n",
       "      <td>111.0</td>\n",
       "      <td>5000.0</td>\n",
       "      <td>13495.0</td>\n",
       "    </tr>\n",
       "    <tr>\n",
       "      <th>1</th>\n",
       "      <td>1.0</td>\n",
       "      <td>+ve_symboling</td>\n",
       "      <td>122.0</td>\n",
       "      <td>alfa-romero</td>\n",
       "      <td>gas</td>\n",
       "      <td>std</td>\n",
       "      <td>two</td>\n",
       "      <td>convertible</td>\n",
       "      <td>rwd</td>\n",
       "      <td>front</td>\n",
       "      <td>...</td>\n",
       "      <td>dohc</td>\n",
       "      <td>four</td>\n",
       "      <td>130</td>\n",
       "      <td>mpfi</td>\n",
       "      <td>3.47</td>\n",
       "      <td>2.68</td>\n",
       "      <td>9.0</td>\n",
       "      <td>111.0</td>\n",
       "      <td>5000.0</td>\n",
       "      <td>16500.0</td>\n",
       "    </tr>\n",
       "    <tr>\n",
       "      <th>2</th>\n",
       "      <td>1.0</td>\n",
       "      <td>+ve_symboling</td>\n",
       "      <td>122.0</td>\n",
       "      <td>alfa-romero</td>\n",
       "      <td>gas</td>\n",
       "      <td>std</td>\n",
       "      <td>two</td>\n",
       "      <td>hatchback</td>\n",
       "      <td>rwd</td>\n",
       "      <td>front</td>\n",
       "      <td>...</td>\n",
       "      <td>ohcv</td>\n",
       "      <td>six</td>\n",
       "      <td>152</td>\n",
       "      <td>mpfi</td>\n",
       "      <td>2.68</td>\n",
       "      <td>3.47</td>\n",
       "      <td>9.0</td>\n",
       "      <td>154.0</td>\n",
       "      <td>5000.0</td>\n",
       "      <td>16500.0</td>\n",
       "    </tr>\n",
       "    <tr>\n",
       "      <th>3</th>\n",
       "      <td>1.0</td>\n",
       "      <td>+ve_symboling</td>\n",
       "      <td>164.0</td>\n",
       "      <td>audi</td>\n",
       "      <td>gas</td>\n",
       "      <td>std</td>\n",
       "      <td>four</td>\n",
       "      <td>sedan</td>\n",
       "      <td>fwd</td>\n",
       "      <td>front</td>\n",
       "      <td>...</td>\n",
       "      <td>ohc</td>\n",
       "      <td>four</td>\n",
       "      <td>109</td>\n",
       "      <td>mpfi</td>\n",
       "      <td>3.19</td>\n",
       "      <td>3.40</td>\n",
       "      <td>10.0</td>\n",
       "      <td>102.0</td>\n",
       "      <td>5500.0</td>\n",
       "      <td>13950.0</td>\n",
       "    </tr>\n",
       "    <tr>\n",
       "      <th>4</th>\n",
       "      <td>1.0</td>\n",
       "      <td>+ve_symboling</td>\n",
       "      <td>164.0</td>\n",
       "      <td>audi</td>\n",
       "      <td>gas</td>\n",
       "      <td>std</td>\n",
       "      <td>four</td>\n",
       "      <td>sedan</td>\n",
       "      <td>4wd</td>\n",
       "      <td>front</td>\n",
       "      <td>...</td>\n",
       "      <td>ohc</td>\n",
       "      <td>five</td>\n",
       "      <td>136</td>\n",
       "      <td>mpfi</td>\n",
       "      <td>3.19</td>\n",
       "      <td>3.40</td>\n",
       "      <td>8.0</td>\n",
       "      <td>115.0</td>\n",
       "      <td>5500.0</td>\n",
       "      <td>17450.0</td>\n",
       "    </tr>\n",
       "    <tr>\n",
       "      <th>...</th>\n",
       "      <td>...</td>\n",
       "      <td>...</td>\n",
       "      <td>...</td>\n",
       "      <td>...</td>\n",
       "      <td>...</td>\n",
       "      <td>...</td>\n",
       "      <td>...</td>\n",
       "      <td>...</td>\n",
       "      <td>...</td>\n",
       "      <td>...</td>\n",
       "      <td>...</td>\n",
       "      <td>...</td>\n",
       "      <td>...</td>\n",
       "      <td>...</td>\n",
       "      <td>...</td>\n",
       "      <td>...</td>\n",
       "      <td>...</td>\n",
       "      <td>...</td>\n",
       "      <td>...</td>\n",
       "      <td>...</td>\n",
       "      <td>...</td>\n",
       "    </tr>\n",
       "    <tr>\n",
       "      <th>200</th>\n",
       "      <td>1.0</td>\n",
       "      <td>-ve_symboling</td>\n",
       "      <td>95.0</td>\n",
       "      <td>volvo</td>\n",
       "      <td>gas</td>\n",
       "      <td>std</td>\n",
       "      <td>four</td>\n",
       "      <td>sedan</td>\n",
       "      <td>rwd</td>\n",
       "      <td>front</td>\n",
       "      <td>...</td>\n",
       "      <td>ohc</td>\n",
       "      <td>four</td>\n",
       "      <td>141</td>\n",
       "      <td>mpfi</td>\n",
       "      <td>3.78</td>\n",
       "      <td>3.15</td>\n",
       "      <td>9.5</td>\n",
       "      <td>114.0</td>\n",
       "      <td>5400.0</td>\n",
       "      <td>16845.0</td>\n",
       "    </tr>\n",
       "    <tr>\n",
       "      <th>201</th>\n",
       "      <td>1.0</td>\n",
       "      <td>-ve_symboling</td>\n",
       "      <td>95.0</td>\n",
       "      <td>volvo</td>\n",
       "      <td>gas</td>\n",
       "      <td>turbo</td>\n",
       "      <td>four</td>\n",
       "      <td>sedan</td>\n",
       "      <td>rwd</td>\n",
       "      <td>front</td>\n",
       "      <td>...</td>\n",
       "      <td>ohc</td>\n",
       "      <td>four</td>\n",
       "      <td>141</td>\n",
       "      <td>mpfi</td>\n",
       "      <td>3.78</td>\n",
       "      <td>3.15</td>\n",
       "      <td>8.7</td>\n",
       "      <td>160.0</td>\n",
       "      <td>5300.0</td>\n",
       "      <td>19045.0</td>\n",
       "    </tr>\n",
       "    <tr>\n",
       "      <th>202</th>\n",
       "      <td>1.0</td>\n",
       "      <td>-ve_symboling</td>\n",
       "      <td>95.0</td>\n",
       "      <td>volvo</td>\n",
       "      <td>gas</td>\n",
       "      <td>std</td>\n",
       "      <td>four</td>\n",
       "      <td>sedan</td>\n",
       "      <td>rwd</td>\n",
       "      <td>front</td>\n",
       "      <td>...</td>\n",
       "      <td>ohcv</td>\n",
       "      <td>six</td>\n",
       "      <td>173</td>\n",
       "      <td>mpfi</td>\n",
       "      <td>3.58</td>\n",
       "      <td>2.87</td>\n",
       "      <td>8.8</td>\n",
       "      <td>134.0</td>\n",
       "      <td>5500.0</td>\n",
       "      <td>21485.0</td>\n",
       "    </tr>\n",
       "    <tr>\n",
       "      <th>203</th>\n",
       "      <td>1.0</td>\n",
       "      <td>-ve_symboling</td>\n",
       "      <td>95.0</td>\n",
       "      <td>volvo</td>\n",
       "      <td>diesel</td>\n",
       "      <td>turbo</td>\n",
       "      <td>four</td>\n",
       "      <td>sedan</td>\n",
       "      <td>rwd</td>\n",
       "      <td>front</td>\n",
       "      <td>...</td>\n",
       "      <td>ohc</td>\n",
       "      <td>six</td>\n",
       "      <td>145</td>\n",
       "      <td>idi</td>\n",
       "      <td>3.01</td>\n",
       "      <td>3.40</td>\n",
       "      <td>23.0</td>\n",
       "      <td>106.0</td>\n",
       "      <td>4800.0</td>\n",
       "      <td>22470.0</td>\n",
       "    </tr>\n",
       "    <tr>\n",
       "      <th>204</th>\n",
       "      <td>1.0</td>\n",
       "      <td>-ve_symboling</td>\n",
       "      <td>95.0</td>\n",
       "      <td>volvo</td>\n",
       "      <td>gas</td>\n",
       "      <td>turbo</td>\n",
       "      <td>four</td>\n",
       "      <td>sedan</td>\n",
       "      <td>rwd</td>\n",
       "      <td>front</td>\n",
       "      <td>...</td>\n",
       "      <td>ohc</td>\n",
       "      <td>four</td>\n",
       "      <td>141</td>\n",
       "      <td>mpfi</td>\n",
       "      <td>3.78</td>\n",
       "      <td>3.15</td>\n",
       "      <td>9.5</td>\n",
       "      <td>114.0</td>\n",
       "      <td>5400.0</td>\n",
       "      <td>22625.0</td>\n",
       "    </tr>\n",
       "  </tbody>\n",
       "</table>\n",
       "<p>205 rows × 25 columns</p>\n",
       "</div>"
      ],
      "text/plain": [
       "     const      symboling  normalizedlosses         make fueltype aspiration  \\\n",
       "0      1.0  +ve_symboling             122.0  alfa-romero      gas        std   \n",
       "1      1.0  +ve_symboling             122.0  alfa-romero      gas        std   \n",
       "2      1.0  +ve_symboling             122.0  alfa-romero      gas        std   \n",
       "3      1.0  +ve_symboling             164.0         audi      gas        std   \n",
       "4      1.0  +ve_symboling             164.0         audi      gas        std   \n",
       "..     ...            ...               ...          ...      ...        ...   \n",
       "200    1.0  -ve_symboling              95.0        volvo      gas        std   \n",
       "201    1.0  -ve_symboling              95.0        volvo      gas      turbo   \n",
       "202    1.0  -ve_symboling              95.0        volvo      gas        std   \n",
       "203    1.0  -ve_symboling              95.0        volvo   diesel      turbo   \n",
       "204    1.0  -ve_symboling              95.0        volvo      gas      turbo   \n",
       "\n",
       "    numofdoors    bodystyle drivewheels enginelocation  ...  enginetype  \\\n",
       "0          two  convertible         rwd          front  ...        dohc   \n",
       "1          two  convertible         rwd          front  ...        dohc   \n",
       "2          two    hatchback         rwd          front  ...        ohcv   \n",
       "3         four        sedan         fwd          front  ...         ohc   \n",
       "4         four        sedan         4wd          front  ...         ohc   \n",
       "..         ...          ...         ...            ...  ...         ...   \n",
       "200       four        sedan         rwd          front  ...         ohc   \n",
       "201       four        sedan         rwd          front  ...         ohc   \n",
       "202       four        sedan         rwd          front  ...        ohcv   \n",
       "203       four        sedan         rwd          front  ...         ohc   \n",
       "204       four        sedan         rwd          front  ...         ohc   \n",
       "\n",
       "     numofcylinders  enginesize  fuelsystem  bore stroke compressionratio  \\\n",
       "0              four         130        mpfi  3.47   2.68              9.0   \n",
       "1              four         130        mpfi  3.47   2.68              9.0   \n",
       "2               six         152        mpfi  2.68   3.47              9.0   \n",
       "3              four         109        mpfi  3.19   3.40             10.0   \n",
       "4              five         136        mpfi  3.19   3.40              8.0   \n",
       "..              ...         ...         ...   ...    ...              ...   \n",
       "200            four         141        mpfi  3.78   3.15              9.5   \n",
       "201            four         141        mpfi  3.78   3.15              8.7   \n",
       "202             six         173        mpfi  3.58   2.87              8.8   \n",
       "203             six         145         idi  3.01   3.40             23.0   \n",
       "204            four         141        mpfi  3.78   3.15              9.5   \n",
       "\n",
       "     horsepower peakrpm    price  \n",
       "0         111.0  5000.0  13495.0  \n",
       "1         111.0  5000.0  16500.0  \n",
       "2         154.0  5000.0  16500.0  \n",
       "3         102.0  5500.0  13950.0  \n",
       "4         115.0  5500.0  17450.0  \n",
       "..          ...     ...      ...  \n",
       "200       114.0  5400.0  16845.0  \n",
       "201       160.0  5300.0  19045.0  \n",
       "202       134.0  5500.0  21485.0  \n",
       "203       106.0  4800.0  22470.0  \n",
       "204       114.0  5400.0  22625.0  \n",
       "\n",
       "[205 rows x 25 columns]"
      ]
     },
     "execution_count": 99,
     "metadata": {},
     "output_type": "execute_result"
    }
   ],
   "source": [
    "x\n"
   ]
  },
  {
   "cell_type": "code",
   "execution_count": 100,
   "id": "733f16d1",
   "metadata": {},
   "outputs": [],
   "source": [
    "train=x.iloc[:180]"
   ]
  },
  {
   "cell_type": "code",
   "execution_count": 101,
   "id": "65f04baa",
   "metadata": {},
   "outputs": [
    {
     "data": {
      "text/html": [
       "<div>\n",
       "<style scoped>\n",
       "    .dataframe tbody tr th:only-of-type {\n",
       "        vertical-align: middle;\n",
       "    }\n",
       "\n",
       "    .dataframe tbody tr th {\n",
       "        vertical-align: top;\n",
       "    }\n",
       "\n",
       "    .dataframe thead th {\n",
       "        text-align: right;\n",
       "    }\n",
       "</style>\n",
       "<table border=\"1\" class=\"dataframe\">\n",
       "  <thead>\n",
       "    <tr style=\"text-align: right;\">\n",
       "      <th></th>\n",
       "      <th>const</th>\n",
       "      <th>symboling</th>\n",
       "      <th>normalizedlosses</th>\n",
       "      <th>make</th>\n",
       "      <th>fueltype</th>\n",
       "      <th>aspiration</th>\n",
       "      <th>numofdoors</th>\n",
       "      <th>bodystyle</th>\n",
       "      <th>drivewheels</th>\n",
       "      <th>enginelocation</th>\n",
       "      <th>...</th>\n",
       "      <th>enginetype</th>\n",
       "      <th>numofcylinders</th>\n",
       "      <th>enginesize</th>\n",
       "      <th>fuelsystem</th>\n",
       "      <th>bore</th>\n",
       "      <th>stroke</th>\n",
       "      <th>compressionratio</th>\n",
       "      <th>horsepower</th>\n",
       "      <th>peakrpm</th>\n",
       "      <th>price</th>\n",
       "    </tr>\n",
       "  </thead>\n",
       "  <tbody>\n",
       "    <tr>\n",
       "      <th>0</th>\n",
       "      <td>1.0</td>\n",
       "      <td>+ve_symboling</td>\n",
       "      <td>122.0</td>\n",
       "      <td>alfa-romero</td>\n",
       "      <td>gas</td>\n",
       "      <td>std</td>\n",
       "      <td>two</td>\n",
       "      <td>convertible</td>\n",
       "      <td>rwd</td>\n",
       "      <td>front</td>\n",
       "      <td>...</td>\n",
       "      <td>dohc</td>\n",
       "      <td>four</td>\n",
       "      <td>130</td>\n",
       "      <td>mpfi</td>\n",
       "      <td>3.47</td>\n",
       "      <td>2.68</td>\n",
       "      <td>9.0</td>\n",
       "      <td>111.0</td>\n",
       "      <td>5000.0</td>\n",
       "      <td>13495.0</td>\n",
       "    </tr>\n",
       "    <tr>\n",
       "      <th>1</th>\n",
       "      <td>1.0</td>\n",
       "      <td>+ve_symboling</td>\n",
       "      <td>122.0</td>\n",
       "      <td>alfa-romero</td>\n",
       "      <td>gas</td>\n",
       "      <td>std</td>\n",
       "      <td>two</td>\n",
       "      <td>convertible</td>\n",
       "      <td>rwd</td>\n",
       "      <td>front</td>\n",
       "      <td>...</td>\n",
       "      <td>dohc</td>\n",
       "      <td>four</td>\n",
       "      <td>130</td>\n",
       "      <td>mpfi</td>\n",
       "      <td>3.47</td>\n",
       "      <td>2.68</td>\n",
       "      <td>9.0</td>\n",
       "      <td>111.0</td>\n",
       "      <td>5000.0</td>\n",
       "      <td>16500.0</td>\n",
       "    </tr>\n",
       "    <tr>\n",
       "      <th>2</th>\n",
       "      <td>1.0</td>\n",
       "      <td>+ve_symboling</td>\n",
       "      <td>122.0</td>\n",
       "      <td>alfa-romero</td>\n",
       "      <td>gas</td>\n",
       "      <td>std</td>\n",
       "      <td>two</td>\n",
       "      <td>hatchback</td>\n",
       "      <td>rwd</td>\n",
       "      <td>front</td>\n",
       "      <td>...</td>\n",
       "      <td>ohcv</td>\n",
       "      <td>six</td>\n",
       "      <td>152</td>\n",
       "      <td>mpfi</td>\n",
       "      <td>2.68</td>\n",
       "      <td>3.47</td>\n",
       "      <td>9.0</td>\n",
       "      <td>154.0</td>\n",
       "      <td>5000.0</td>\n",
       "      <td>16500.0</td>\n",
       "    </tr>\n",
       "    <tr>\n",
       "      <th>3</th>\n",
       "      <td>1.0</td>\n",
       "      <td>+ve_symboling</td>\n",
       "      <td>164.0</td>\n",
       "      <td>audi</td>\n",
       "      <td>gas</td>\n",
       "      <td>std</td>\n",
       "      <td>four</td>\n",
       "      <td>sedan</td>\n",
       "      <td>fwd</td>\n",
       "      <td>front</td>\n",
       "      <td>...</td>\n",
       "      <td>ohc</td>\n",
       "      <td>four</td>\n",
       "      <td>109</td>\n",
       "      <td>mpfi</td>\n",
       "      <td>3.19</td>\n",
       "      <td>3.40</td>\n",
       "      <td>10.0</td>\n",
       "      <td>102.0</td>\n",
       "      <td>5500.0</td>\n",
       "      <td>13950.0</td>\n",
       "    </tr>\n",
       "    <tr>\n",
       "      <th>4</th>\n",
       "      <td>1.0</td>\n",
       "      <td>+ve_symboling</td>\n",
       "      <td>164.0</td>\n",
       "      <td>audi</td>\n",
       "      <td>gas</td>\n",
       "      <td>std</td>\n",
       "      <td>four</td>\n",
       "      <td>sedan</td>\n",
       "      <td>4wd</td>\n",
       "      <td>front</td>\n",
       "      <td>...</td>\n",
       "      <td>ohc</td>\n",
       "      <td>five</td>\n",
       "      <td>136</td>\n",
       "      <td>mpfi</td>\n",
       "      <td>3.19</td>\n",
       "      <td>3.40</td>\n",
       "      <td>8.0</td>\n",
       "      <td>115.0</td>\n",
       "      <td>5500.0</td>\n",
       "      <td>17450.0</td>\n",
       "    </tr>\n",
       "    <tr>\n",
       "      <th>...</th>\n",
       "      <td>...</td>\n",
       "      <td>...</td>\n",
       "      <td>...</td>\n",
       "      <td>...</td>\n",
       "      <td>...</td>\n",
       "      <td>...</td>\n",
       "      <td>...</td>\n",
       "      <td>...</td>\n",
       "      <td>...</td>\n",
       "      <td>...</td>\n",
       "      <td>...</td>\n",
       "      <td>...</td>\n",
       "      <td>...</td>\n",
       "      <td>...</td>\n",
       "      <td>...</td>\n",
       "      <td>...</td>\n",
       "      <td>...</td>\n",
       "      <td>...</td>\n",
       "      <td>...</td>\n",
       "      <td>...</td>\n",
       "      <td>...</td>\n",
       "    </tr>\n",
       "    <tr>\n",
       "      <th>175</th>\n",
       "      <td>1.0</td>\n",
       "      <td>-ve_symboling</td>\n",
       "      <td>65.0</td>\n",
       "      <td>toyota</td>\n",
       "      <td>gas</td>\n",
       "      <td>std</td>\n",
       "      <td>four</td>\n",
       "      <td>hatchback</td>\n",
       "      <td>fwd</td>\n",
       "      <td>front</td>\n",
       "      <td>...</td>\n",
       "      <td>ohc</td>\n",
       "      <td>four</td>\n",
       "      <td>122</td>\n",
       "      <td>mpfi</td>\n",
       "      <td>3.31</td>\n",
       "      <td>3.54</td>\n",
       "      <td>8.7</td>\n",
       "      <td>92.0</td>\n",
       "      <td>4200.0</td>\n",
       "      <td>9988.0</td>\n",
       "    </tr>\n",
       "    <tr>\n",
       "      <th>176</th>\n",
       "      <td>1.0</td>\n",
       "      <td>-ve_symboling</td>\n",
       "      <td>65.0</td>\n",
       "      <td>toyota</td>\n",
       "      <td>gas</td>\n",
       "      <td>std</td>\n",
       "      <td>four</td>\n",
       "      <td>sedan</td>\n",
       "      <td>fwd</td>\n",
       "      <td>front</td>\n",
       "      <td>...</td>\n",
       "      <td>ohc</td>\n",
       "      <td>four</td>\n",
       "      <td>122</td>\n",
       "      <td>mpfi</td>\n",
       "      <td>3.31</td>\n",
       "      <td>3.54</td>\n",
       "      <td>8.7</td>\n",
       "      <td>92.0</td>\n",
       "      <td>4200.0</td>\n",
       "      <td>10898.0</td>\n",
       "    </tr>\n",
       "    <tr>\n",
       "      <th>177</th>\n",
       "      <td>1.0</td>\n",
       "      <td>-ve_symboling</td>\n",
       "      <td>65.0</td>\n",
       "      <td>toyota</td>\n",
       "      <td>gas</td>\n",
       "      <td>std</td>\n",
       "      <td>four</td>\n",
       "      <td>hatchback</td>\n",
       "      <td>fwd</td>\n",
       "      <td>front</td>\n",
       "      <td>...</td>\n",
       "      <td>ohc</td>\n",
       "      <td>four</td>\n",
       "      <td>122</td>\n",
       "      <td>mpfi</td>\n",
       "      <td>3.31</td>\n",
       "      <td>3.54</td>\n",
       "      <td>8.7</td>\n",
       "      <td>92.0</td>\n",
       "      <td>4200.0</td>\n",
       "      <td>11248.0</td>\n",
       "    </tr>\n",
       "    <tr>\n",
       "      <th>178</th>\n",
       "      <td>1.0</td>\n",
       "      <td>+ve_symboling</td>\n",
       "      <td>197.0</td>\n",
       "      <td>toyota</td>\n",
       "      <td>gas</td>\n",
       "      <td>std</td>\n",
       "      <td>two</td>\n",
       "      <td>hatchback</td>\n",
       "      <td>rwd</td>\n",
       "      <td>front</td>\n",
       "      <td>...</td>\n",
       "      <td>dohc</td>\n",
       "      <td>six</td>\n",
       "      <td>171</td>\n",
       "      <td>mpfi</td>\n",
       "      <td>3.27</td>\n",
       "      <td>3.35</td>\n",
       "      <td>9.3</td>\n",
       "      <td>161.0</td>\n",
       "      <td>5200.0</td>\n",
       "      <td>16558.0</td>\n",
       "    </tr>\n",
       "    <tr>\n",
       "      <th>179</th>\n",
       "      <td>1.0</td>\n",
       "      <td>+ve_symboling</td>\n",
       "      <td>197.0</td>\n",
       "      <td>toyota</td>\n",
       "      <td>gas</td>\n",
       "      <td>std</td>\n",
       "      <td>two</td>\n",
       "      <td>hatchback</td>\n",
       "      <td>rwd</td>\n",
       "      <td>front</td>\n",
       "      <td>...</td>\n",
       "      <td>dohc</td>\n",
       "      <td>six</td>\n",
       "      <td>171</td>\n",
       "      <td>mpfi</td>\n",
       "      <td>3.27</td>\n",
       "      <td>3.35</td>\n",
       "      <td>9.3</td>\n",
       "      <td>161.0</td>\n",
       "      <td>5200.0</td>\n",
       "      <td>15998.0</td>\n",
       "    </tr>\n",
       "  </tbody>\n",
       "</table>\n",
       "<p>180 rows × 25 columns</p>\n",
       "</div>"
      ],
      "text/plain": [
       "     const      symboling  normalizedlosses         make fueltype aspiration  \\\n",
       "0      1.0  +ve_symboling             122.0  alfa-romero      gas        std   \n",
       "1      1.0  +ve_symboling             122.0  alfa-romero      gas        std   \n",
       "2      1.0  +ve_symboling             122.0  alfa-romero      gas        std   \n",
       "3      1.0  +ve_symboling             164.0         audi      gas        std   \n",
       "4      1.0  +ve_symboling             164.0         audi      gas        std   \n",
       "..     ...            ...               ...          ...      ...        ...   \n",
       "175    1.0  -ve_symboling              65.0       toyota      gas        std   \n",
       "176    1.0  -ve_symboling              65.0       toyota      gas        std   \n",
       "177    1.0  -ve_symboling              65.0       toyota      gas        std   \n",
       "178    1.0  +ve_symboling             197.0       toyota      gas        std   \n",
       "179    1.0  +ve_symboling             197.0       toyota      gas        std   \n",
       "\n",
       "    numofdoors    bodystyle drivewheels enginelocation  ...  enginetype  \\\n",
       "0          two  convertible         rwd          front  ...        dohc   \n",
       "1          two  convertible         rwd          front  ...        dohc   \n",
       "2          two    hatchback         rwd          front  ...        ohcv   \n",
       "3         four        sedan         fwd          front  ...         ohc   \n",
       "4         four        sedan         4wd          front  ...         ohc   \n",
       "..         ...          ...         ...            ...  ...         ...   \n",
       "175       four    hatchback         fwd          front  ...         ohc   \n",
       "176       four        sedan         fwd          front  ...         ohc   \n",
       "177       four    hatchback         fwd          front  ...         ohc   \n",
       "178        two    hatchback         rwd          front  ...        dohc   \n",
       "179        two    hatchback         rwd          front  ...        dohc   \n",
       "\n",
       "     numofcylinders  enginesize  fuelsystem  bore stroke compressionratio  \\\n",
       "0              four         130        mpfi  3.47   2.68              9.0   \n",
       "1              four         130        mpfi  3.47   2.68              9.0   \n",
       "2               six         152        mpfi  2.68   3.47              9.0   \n",
       "3              four         109        mpfi  3.19   3.40             10.0   \n",
       "4              five         136        mpfi  3.19   3.40              8.0   \n",
       "..              ...         ...         ...   ...    ...              ...   \n",
       "175            four         122        mpfi  3.31   3.54              8.7   \n",
       "176            four         122        mpfi  3.31   3.54              8.7   \n",
       "177            four         122        mpfi  3.31   3.54              8.7   \n",
       "178             six         171        mpfi  3.27   3.35              9.3   \n",
       "179             six         171        mpfi  3.27   3.35              9.3   \n",
       "\n",
       "     horsepower peakrpm    price  \n",
       "0         111.0  5000.0  13495.0  \n",
       "1         111.0  5000.0  16500.0  \n",
       "2         154.0  5000.0  16500.0  \n",
       "3         102.0  5500.0  13950.0  \n",
       "4         115.0  5500.0  17450.0  \n",
       "..          ...     ...      ...  \n",
       "175        92.0  4200.0   9988.0  \n",
       "176        92.0  4200.0  10898.0  \n",
       "177        92.0  4200.0  11248.0  \n",
       "178       161.0  5200.0  16558.0  \n",
       "179       161.0  5200.0  15998.0  \n",
       "\n",
       "[180 rows x 25 columns]"
      ]
     },
     "execution_count": 101,
     "metadata": {},
     "output_type": "execute_result"
    }
   ],
   "source": [
    "train"
   ]
  },
  {
   "cell_type": "code",
   "execution_count": 102,
   "id": "c125024a",
   "metadata": {},
   "outputs": [],
   "source": [
    "test=x.iloc[181:]"
   ]
  },
  {
   "cell_type": "code",
   "execution_count": 103,
   "id": "0990d9f2",
   "metadata": {
    "scrolled": true
   },
   "outputs": [
    {
     "data": {
      "text/html": [
       "<div>\n",
       "<style scoped>\n",
       "    .dataframe tbody tr th:only-of-type {\n",
       "        vertical-align: middle;\n",
       "    }\n",
       "\n",
       "    .dataframe tbody tr th {\n",
       "        vertical-align: top;\n",
       "    }\n",
       "\n",
       "    .dataframe thead th {\n",
       "        text-align: right;\n",
       "    }\n",
       "</style>\n",
       "<table border=\"1\" class=\"dataframe\">\n",
       "  <thead>\n",
       "    <tr style=\"text-align: right;\">\n",
       "      <th></th>\n",
       "      <th>const</th>\n",
       "      <th>symboling</th>\n",
       "      <th>normalizedlosses</th>\n",
       "      <th>make</th>\n",
       "      <th>fueltype</th>\n",
       "      <th>aspiration</th>\n",
       "      <th>numofdoors</th>\n",
       "      <th>bodystyle</th>\n",
       "      <th>drivewheels</th>\n",
       "      <th>enginelocation</th>\n",
       "      <th>...</th>\n",
       "      <th>enginetype</th>\n",
       "      <th>numofcylinders</th>\n",
       "      <th>enginesize</th>\n",
       "      <th>fuelsystem</th>\n",
       "      <th>bore</th>\n",
       "      <th>stroke</th>\n",
       "      <th>compressionratio</th>\n",
       "      <th>horsepower</th>\n",
       "      <th>peakrpm</th>\n",
       "      <th>price</th>\n",
       "    </tr>\n",
       "  </thead>\n",
       "  <tbody>\n",
       "    <tr>\n",
       "      <th>181</th>\n",
       "      <td>1.0</td>\n",
       "      <td>-ve_symboling</td>\n",
       "      <td>122.0</td>\n",
       "      <td>toyota</td>\n",
       "      <td>gas</td>\n",
       "      <td>std</td>\n",
       "      <td>four</td>\n",
       "      <td>wagon</td>\n",
       "      <td>rwd</td>\n",
       "      <td>front</td>\n",
       "      <td>...</td>\n",
       "      <td>dohc</td>\n",
       "      <td>six</td>\n",
       "      <td>161</td>\n",
       "      <td>mpfi</td>\n",
       "      <td>3.27</td>\n",
       "      <td>3.35</td>\n",
       "      <td>9.2</td>\n",
       "      <td>156.0</td>\n",
       "      <td>5200.0</td>\n",
       "      <td>15750.0</td>\n",
       "    </tr>\n",
       "    <tr>\n",
       "      <th>182</th>\n",
       "      <td>1.0</td>\n",
       "      <td>+ve_symboling</td>\n",
       "      <td>122.0</td>\n",
       "      <td>volkswagen</td>\n",
       "      <td>diesel</td>\n",
       "      <td>std</td>\n",
       "      <td>two</td>\n",
       "      <td>sedan</td>\n",
       "      <td>fwd</td>\n",
       "      <td>front</td>\n",
       "      <td>...</td>\n",
       "      <td>ohc</td>\n",
       "      <td>four</td>\n",
       "      <td>97</td>\n",
       "      <td>idi</td>\n",
       "      <td>3.01</td>\n",
       "      <td>3.40</td>\n",
       "      <td>23.0</td>\n",
       "      <td>52.0</td>\n",
       "      <td>4800.0</td>\n",
       "      <td>7775.0</td>\n",
       "    </tr>\n",
       "    <tr>\n",
       "      <th>183</th>\n",
       "      <td>1.0</td>\n",
       "      <td>+ve_symboling</td>\n",
       "      <td>122.0</td>\n",
       "      <td>volkswagen</td>\n",
       "      <td>gas</td>\n",
       "      <td>std</td>\n",
       "      <td>two</td>\n",
       "      <td>sedan</td>\n",
       "      <td>fwd</td>\n",
       "      <td>front</td>\n",
       "      <td>...</td>\n",
       "      <td>ohc</td>\n",
       "      <td>four</td>\n",
       "      <td>109</td>\n",
       "      <td>mpfi</td>\n",
       "      <td>3.19</td>\n",
       "      <td>3.40</td>\n",
       "      <td>9.0</td>\n",
       "      <td>85.0</td>\n",
       "      <td>5250.0</td>\n",
       "      <td>7975.0</td>\n",
       "    </tr>\n",
       "    <tr>\n",
       "      <th>184</th>\n",
       "      <td>1.0</td>\n",
       "      <td>+ve_symboling</td>\n",
       "      <td>94.0</td>\n",
       "      <td>volkswagen</td>\n",
       "      <td>diesel</td>\n",
       "      <td>std</td>\n",
       "      <td>four</td>\n",
       "      <td>sedan</td>\n",
       "      <td>fwd</td>\n",
       "      <td>front</td>\n",
       "      <td>...</td>\n",
       "      <td>ohc</td>\n",
       "      <td>four</td>\n",
       "      <td>97</td>\n",
       "      <td>idi</td>\n",
       "      <td>3.01</td>\n",
       "      <td>3.40</td>\n",
       "      <td>23.0</td>\n",
       "      <td>52.0</td>\n",
       "      <td>4800.0</td>\n",
       "      <td>7995.0</td>\n",
       "    </tr>\n",
       "    <tr>\n",
       "      <th>185</th>\n",
       "      <td>1.0</td>\n",
       "      <td>+ve_symboling</td>\n",
       "      <td>94.0</td>\n",
       "      <td>volkswagen</td>\n",
       "      <td>gas</td>\n",
       "      <td>std</td>\n",
       "      <td>four</td>\n",
       "      <td>sedan</td>\n",
       "      <td>fwd</td>\n",
       "      <td>front</td>\n",
       "      <td>...</td>\n",
       "      <td>ohc</td>\n",
       "      <td>four</td>\n",
       "      <td>109</td>\n",
       "      <td>mpfi</td>\n",
       "      <td>3.19</td>\n",
       "      <td>3.40</td>\n",
       "      <td>9.0</td>\n",
       "      <td>85.0</td>\n",
       "      <td>5250.0</td>\n",
       "      <td>8195.0</td>\n",
       "    </tr>\n",
       "    <tr>\n",
       "      <th>186</th>\n",
       "      <td>1.0</td>\n",
       "      <td>+ve_symboling</td>\n",
       "      <td>94.0</td>\n",
       "      <td>volkswagen</td>\n",
       "      <td>gas</td>\n",
       "      <td>std</td>\n",
       "      <td>four</td>\n",
       "      <td>sedan</td>\n",
       "      <td>fwd</td>\n",
       "      <td>front</td>\n",
       "      <td>...</td>\n",
       "      <td>ohc</td>\n",
       "      <td>four</td>\n",
       "      <td>109</td>\n",
       "      <td>mpfi</td>\n",
       "      <td>3.19</td>\n",
       "      <td>3.40</td>\n",
       "      <td>9.0</td>\n",
       "      <td>85.0</td>\n",
       "      <td>5250.0</td>\n",
       "      <td>8495.0</td>\n",
       "    </tr>\n",
       "    <tr>\n",
       "      <th>187</th>\n",
       "      <td>1.0</td>\n",
       "      <td>+ve_symboling</td>\n",
       "      <td>94.0</td>\n",
       "      <td>volkswagen</td>\n",
       "      <td>diesel</td>\n",
       "      <td>turbo</td>\n",
       "      <td>four</td>\n",
       "      <td>sedan</td>\n",
       "      <td>fwd</td>\n",
       "      <td>front</td>\n",
       "      <td>...</td>\n",
       "      <td>ohc</td>\n",
       "      <td>four</td>\n",
       "      <td>97</td>\n",
       "      <td>idi</td>\n",
       "      <td>3.01</td>\n",
       "      <td>3.40</td>\n",
       "      <td>23.0</td>\n",
       "      <td>68.0</td>\n",
       "      <td>4500.0</td>\n",
       "      <td>9495.0</td>\n",
       "    </tr>\n",
       "    <tr>\n",
       "      <th>188</th>\n",
       "      <td>1.0</td>\n",
       "      <td>+ve_symboling</td>\n",
       "      <td>94.0</td>\n",
       "      <td>volkswagen</td>\n",
       "      <td>gas</td>\n",
       "      <td>std</td>\n",
       "      <td>four</td>\n",
       "      <td>sedan</td>\n",
       "      <td>fwd</td>\n",
       "      <td>front</td>\n",
       "      <td>...</td>\n",
       "      <td>ohc</td>\n",
       "      <td>four</td>\n",
       "      <td>109</td>\n",
       "      <td>mpfi</td>\n",
       "      <td>3.19</td>\n",
       "      <td>3.40</td>\n",
       "      <td>10.0</td>\n",
       "      <td>100.0</td>\n",
       "      <td>5500.0</td>\n",
       "      <td>9995.0</td>\n",
       "    </tr>\n",
       "    <tr>\n",
       "      <th>189</th>\n",
       "      <td>1.0</td>\n",
       "      <td>+ve_symboling</td>\n",
       "      <td>122.0</td>\n",
       "      <td>volkswagen</td>\n",
       "      <td>gas</td>\n",
       "      <td>std</td>\n",
       "      <td>two</td>\n",
       "      <td>convertible</td>\n",
       "      <td>fwd</td>\n",
       "      <td>front</td>\n",
       "      <td>...</td>\n",
       "      <td>ohc</td>\n",
       "      <td>four</td>\n",
       "      <td>109</td>\n",
       "      <td>mpfi</td>\n",
       "      <td>3.19</td>\n",
       "      <td>3.40</td>\n",
       "      <td>8.5</td>\n",
       "      <td>90.0</td>\n",
       "      <td>5500.0</td>\n",
       "      <td>11595.0</td>\n",
       "    </tr>\n",
       "    <tr>\n",
       "      <th>190</th>\n",
       "      <td>1.0</td>\n",
       "      <td>+ve_symboling</td>\n",
       "      <td>256.0</td>\n",
       "      <td>volkswagen</td>\n",
       "      <td>gas</td>\n",
       "      <td>std</td>\n",
       "      <td>two</td>\n",
       "      <td>hatchback</td>\n",
       "      <td>fwd</td>\n",
       "      <td>front</td>\n",
       "      <td>...</td>\n",
       "      <td>ohc</td>\n",
       "      <td>four</td>\n",
       "      <td>109</td>\n",
       "      <td>mpfi</td>\n",
       "      <td>3.19</td>\n",
       "      <td>3.40</td>\n",
       "      <td>8.5</td>\n",
       "      <td>90.0</td>\n",
       "      <td>5500.0</td>\n",
       "      <td>9980.0</td>\n",
       "    </tr>\n",
       "    <tr>\n",
       "      <th>191</th>\n",
       "      <td>1.0</td>\n",
       "      <td>0</td>\n",
       "      <td>122.0</td>\n",
       "      <td>volkswagen</td>\n",
       "      <td>gas</td>\n",
       "      <td>std</td>\n",
       "      <td>four</td>\n",
       "      <td>sedan</td>\n",
       "      <td>fwd</td>\n",
       "      <td>front</td>\n",
       "      <td>...</td>\n",
       "      <td>ohc</td>\n",
       "      <td>five</td>\n",
       "      <td>136</td>\n",
       "      <td>mpfi</td>\n",
       "      <td>3.19</td>\n",
       "      <td>3.40</td>\n",
       "      <td>8.5</td>\n",
       "      <td>110.0</td>\n",
       "      <td>5500.0</td>\n",
       "      <td>13295.0</td>\n",
       "    </tr>\n",
       "    <tr>\n",
       "      <th>192</th>\n",
       "      <td>1.0</td>\n",
       "      <td>0</td>\n",
       "      <td>122.0</td>\n",
       "      <td>volkswagen</td>\n",
       "      <td>diesel</td>\n",
       "      <td>turbo</td>\n",
       "      <td>four</td>\n",
       "      <td>sedan</td>\n",
       "      <td>fwd</td>\n",
       "      <td>front</td>\n",
       "      <td>...</td>\n",
       "      <td>ohc</td>\n",
       "      <td>four</td>\n",
       "      <td>97</td>\n",
       "      <td>idi</td>\n",
       "      <td>3.01</td>\n",
       "      <td>3.40</td>\n",
       "      <td>23.0</td>\n",
       "      <td>68.0</td>\n",
       "      <td>4500.0</td>\n",
       "      <td>13845.0</td>\n",
       "    </tr>\n",
       "    <tr>\n",
       "      <th>193</th>\n",
       "      <td>1.0</td>\n",
       "      <td>0</td>\n",
       "      <td>122.0</td>\n",
       "      <td>volkswagen</td>\n",
       "      <td>gas</td>\n",
       "      <td>std</td>\n",
       "      <td>four</td>\n",
       "      <td>wagon</td>\n",
       "      <td>fwd</td>\n",
       "      <td>front</td>\n",
       "      <td>...</td>\n",
       "      <td>ohc</td>\n",
       "      <td>four</td>\n",
       "      <td>109</td>\n",
       "      <td>mpfi</td>\n",
       "      <td>3.19</td>\n",
       "      <td>3.40</td>\n",
       "      <td>9.0</td>\n",
       "      <td>88.0</td>\n",
       "      <td>5500.0</td>\n",
       "      <td>12290.0</td>\n",
       "    </tr>\n",
       "    <tr>\n",
       "      <th>194</th>\n",
       "      <td>1.0</td>\n",
       "      <td>-ve_symboling</td>\n",
       "      <td>103.0</td>\n",
       "      <td>volvo</td>\n",
       "      <td>gas</td>\n",
       "      <td>std</td>\n",
       "      <td>four</td>\n",
       "      <td>sedan</td>\n",
       "      <td>rwd</td>\n",
       "      <td>front</td>\n",
       "      <td>...</td>\n",
       "      <td>ohc</td>\n",
       "      <td>four</td>\n",
       "      <td>141</td>\n",
       "      <td>mpfi</td>\n",
       "      <td>3.78</td>\n",
       "      <td>3.15</td>\n",
       "      <td>9.5</td>\n",
       "      <td>114.0</td>\n",
       "      <td>5400.0</td>\n",
       "      <td>12940.0</td>\n",
       "    </tr>\n",
       "    <tr>\n",
       "      <th>195</th>\n",
       "      <td>1.0</td>\n",
       "      <td>-ve_symboling</td>\n",
       "      <td>74.0</td>\n",
       "      <td>volvo</td>\n",
       "      <td>gas</td>\n",
       "      <td>std</td>\n",
       "      <td>four</td>\n",
       "      <td>wagon</td>\n",
       "      <td>rwd</td>\n",
       "      <td>front</td>\n",
       "      <td>...</td>\n",
       "      <td>ohc</td>\n",
       "      <td>four</td>\n",
       "      <td>141</td>\n",
       "      <td>mpfi</td>\n",
       "      <td>3.78</td>\n",
       "      <td>3.15</td>\n",
       "      <td>9.5</td>\n",
       "      <td>114.0</td>\n",
       "      <td>5400.0</td>\n",
       "      <td>13415.0</td>\n",
       "    </tr>\n",
       "    <tr>\n",
       "      <th>196</th>\n",
       "      <td>1.0</td>\n",
       "      <td>-ve_symboling</td>\n",
       "      <td>103.0</td>\n",
       "      <td>volvo</td>\n",
       "      <td>gas</td>\n",
       "      <td>std</td>\n",
       "      <td>four</td>\n",
       "      <td>sedan</td>\n",
       "      <td>rwd</td>\n",
       "      <td>front</td>\n",
       "      <td>...</td>\n",
       "      <td>ohc</td>\n",
       "      <td>four</td>\n",
       "      <td>141</td>\n",
       "      <td>mpfi</td>\n",
       "      <td>3.78</td>\n",
       "      <td>3.15</td>\n",
       "      <td>9.5</td>\n",
       "      <td>114.0</td>\n",
       "      <td>5400.0</td>\n",
       "      <td>15985.0</td>\n",
       "    </tr>\n",
       "    <tr>\n",
       "      <th>197</th>\n",
       "      <td>1.0</td>\n",
       "      <td>-ve_symboling</td>\n",
       "      <td>74.0</td>\n",
       "      <td>volvo</td>\n",
       "      <td>gas</td>\n",
       "      <td>std</td>\n",
       "      <td>four</td>\n",
       "      <td>wagon</td>\n",
       "      <td>rwd</td>\n",
       "      <td>front</td>\n",
       "      <td>...</td>\n",
       "      <td>ohc</td>\n",
       "      <td>four</td>\n",
       "      <td>141</td>\n",
       "      <td>mpfi</td>\n",
       "      <td>3.78</td>\n",
       "      <td>3.15</td>\n",
       "      <td>9.5</td>\n",
       "      <td>114.0</td>\n",
       "      <td>5400.0</td>\n",
       "      <td>16515.0</td>\n",
       "    </tr>\n",
       "    <tr>\n",
       "      <th>198</th>\n",
       "      <td>1.0</td>\n",
       "      <td>-ve_symboling</td>\n",
       "      <td>103.0</td>\n",
       "      <td>volvo</td>\n",
       "      <td>gas</td>\n",
       "      <td>turbo</td>\n",
       "      <td>four</td>\n",
       "      <td>sedan</td>\n",
       "      <td>rwd</td>\n",
       "      <td>front</td>\n",
       "      <td>...</td>\n",
       "      <td>ohc</td>\n",
       "      <td>four</td>\n",
       "      <td>130</td>\n",
       "      <td>mpfi</td>\n",
       "      <td>3.62</td>\n",
       "      <td>3.15</td>\n",
       "      <td>7.5</td>\n",
       "      <td>162.0</td>\n",
       "      <td>5100.0</td>\n",
       "      <td>18420.0</td>\n",
       "    </tr>\n",
       "    <tr>\n",
       "      <th>199</th>\n",
       "      <td>1.0</td>\n",
       "      <td>-ve_symboling</td>\n",
       "      <td>74.0</td>\n",
       "      <td>volvo</td>\n",
       "      <td>gas</td>\n",
       "      <td>turbo</td>\n",
       "      <td>four</td>\n",
       "      <td>wagon</td>\n",
       "      <td>rwd</td>\n",
       "      <td>front</td>\n",
       "      <td>...</td>\n",
       "      <td>ohc</td>\n",
       "      <td>four</td>\n",
       "      <td>130</td>\n",
       "      <td>mpfi</td>\n",
       "      <td>3.62</td>\n",
       "      <td>3.15</td>\n",
       "      <td>7.5</td>\n",
       "      <td>162.0</td>\n",
       "      <td>5100.0</td>\n",
       "      <td>18950.0</td>\n",
       "    </tr>\n",
       "    <tr>\n",
       "      <th>200</th>\n",
       "      <td>1.0</td>\n",
       "      <td>-ve_symboling</td>\n",
       "      <td>95.0</td>\n",
       "      <td>volvo</td>\n",
       "      <td>gas</td>\n",
       "      <td>std</td>\n",
       "      <td>four</td>\n",
       "      <td>sedan</td>\n",
       "      <td>rwd</td>\n",
       "      <td>front</td>\n",
       "      <td>...</td>\n",
       "      <td>ohc</td>\n",
       "      <td>four</td>\n",
       "      <td>141</td>\n",
       "      <td>mpfi</td>\n",
       "      <td>3.78</td>\n",
       "      <td>3.15</td>\n",
       "      <td>9.5</td>\n",
       "      <td>114.0</td>\n",
       "      <td>5400.0</td>\n",
       "      <td>16845.0</td>\n",
       "    </tr>\n",
       "    <tr>\n",
       "      <th>201</th>\n",
       "      <td>1.0</td>\n",
       "      <td>-ve_symboling</td>\n",
       "      <td>95.0</td>\n",
       "      <td>volvo</td>\n",
       "      <td>gas</td>\n",
       "      <td>turbo</td>\n",
       "      <td>four</td>\n",
       "      <td>sedan</td>\n",
       "      <td>rwd</td>\n",
       "      <td>front</td>\n",
       "      <td>...</td>\n",
       "      <td>ohc</td>\n",
       "      <td>four</td>\n",
       "      <td>141</td>\n",
       "      <td>mpfi</td>\n",
       "      <td>3.78</td>\n",
       "      <td>3.15</td>\n",
       "      <td>8.7</td>\n",
       "      <td>160.0</td>\n",
       "      <td>5300.0</td>\n",
       "      <td>19045.0</td>\n",
       "    </tr>\n",
       "    <tr>\n",
       "      <th>202</th>\n",
       "      <td>1.0</td>\n",
       "      <td>-ve_symboling</td>\n",
       "      <td>95.0</td>\n",
       "      <td>volvo</td>\n",
       "      <td>gas</td>\n",
       "      <td>std</td>\n",
       "      <td>four</td>\n",
       "      <td>sedan</td>\n",
       "      <td>rwd</td>\n",
       "      <td>front</td>\n",
       "      <td>...</td>\n",
       "      <td>ohcv</td>\n",
       "      <td>six</td>\n",
       "      <td>173</td>\n",
       "      <td>mpfi</td>\n",
       "      <td>3.58</td>\n",
       "      <td>2.87</td>\n",
       "      <td>8.8</td>\n",
       "      <td>134.0</td>\n",
       "      <td>5500.0</td>\n",
       "      <td>21485.0</td>\n",
       "    </tr>\n",
       "    <tr>\n",
       "      <th>203</th>\n",
       "      <td>1.0</td>\n",
       "      <td>-ve_symboling</td>\n",
       "      <td>95.0</td>\n",
       "      <td>volvo</td>\n",
       "      <td>diesel</td>\n",
       "      <td>turbo</td>\n",
       "      <td>four</td>\n",
       "      <td>sedan</td>\n",
       "      <td>rwd</td>\n",
       "      <td>front</td>\n",
       "      <td>...</td>\n",
       "      <td>ohc</td>\n",
       "      <td>six</td>\n",
       "      <td>145</td>\n",
       "      <td>idi</td>\n",
       "      <td>3.01</td>\n",
       "      <td>3.40</td>\n",
       "      <td>23.0</td>\n",
       "      <td>106.0</td>\n",
       "      <td>4800.0</td>\n",
       "      <td>22470.0</td>\n",
       "    </tr>\n",
       "    <tr>\n",
       "      <th>204</th>\n",
       "      <td>1.0</td>\n",
       "      <td>-ve_symboling</td>\n",
       "      <td>95.0</td>\n",
       "      <td>volvo</td>\n",
       "      <td>gas</td>\n",
       "      <td>turbo</td>\n",
       "      <td>four</td>\n",
       "      <td>sedan</td>\n",
       "      <td>rwd</td>\n",
       "      <td>front</td>\n",
       "      <td>...</td>\n",
       "      <td>ohc</td>\n",
       "      <td>four</td>\n",
       "      <td>141</td>\n",
       "      <td>mpfi</td>\n",
       "      <td>3.78</td>\n",
       "      <td>3.15</td>\n",
       "      <td>9.5</td>\n",
       "      <td>114.0</td>\n",
       "      <td>5400.0</td>\n",
       "      <td>22625.0</td>\n",
       "    </tr>\n",
       "  </tbody>\n",
       "</table>\n",
       "<p>24 rows × 25 columns</p>\n",
       "</div>"
      ],
      "text/plain": [
       "     const      symboling  normalizedlosses        make fueltype aspiration  \\\n",
       "181    1.0  -ve_symboling             122.0      toyota      gas        std   \n",
       "182    1.0  +ve_symboling             122.0  volkswagen   diesel        std   \n",
       "183    1.0  +ve_symboling             122.0  volkswagen      gas        std   \n",
       "184    1.0  +ve_symboling              94.0  volkswagen   diesel        std   \n",
       "185    1.0  +ve_symboling              94.0  volkswagen      gas        std   \n",
       "186    1.0  +ve_symboling              94.0  volkswagen      gas        std   \n",
       "187    1.0  +ve_symboling              94.0  volkswagen   diesel      turbo   \n",
       "188    1.0  +ve_symboling              94.0  volkswagen      gas        std   \n",
       "189    1.0  +ve_symboling             122.0  volkswagen      gas        std   \n",
       "190    1.0  +ve_symboling             256.0  volkswagen      gas        std   \n",
       "191    1.0              0             122.0  volkswagen      gas        std   \n",
       "192    1.0              0             122.0  volkswagen   diesel      turbo   \n",
       "193    1.0              0             122.0  volkswagen      gas        std   \n",
       "194    1.0  -ve_symboling             103.0       volvo      gas        std   \n",
       "195    1.0  -ve_symboling              74.0       volvo      gas        std   \n",
       "196    1.0  -ve_symboling             103.0       volvo      gas        std   \n",
       "197    1.0  -ve_symboling              74.0       volvo      gas        std   \n",
       "198    1.0  -ve_symboling             103.0       volvo      gas      turbo   \n",
       "199    1.0  -ve_symboling              74.0       volvo      gas      turbo   \n",
       "200    1.0  -ve_symboling              95.0       volvo      gas        std   \n",
       "201    1.0  -ve_symboling              95.0       volvo      gas      turbo   \n",
       "202    1.0  -ve_symboling              95.0       volvo      gas        std   \n",
       "203    1.0  -ve_symboling              95.0       volvo   diesel      turbo   \n",
       "204    1.0  -ve_symboling              95.0       volvo      gas      turbo   \n",
       "\n",
       "    numofdoors    bodystyle drivewheels enginelocation  ...  enginetype  \\\n",
       "181       four        wagon         rwd          front  ...        dohc   \n",
       "182        two        sedan         fwd          front  ...         ohc   \n",
       "183        two        sedan         fwd          front  ...         ohc   \n",
       "184       four        sedan         fwd          front  ...         ohc   \n",
       "185       four        sedan         fwd          front  ...         ohc   \n",
       "186       four        sedan         fwd          front  ...         ohc   \n",
       "187       four        sedan         fwd          front  ...         ohc   \n",
       "188       four        sedan         fwd          front  ...         ohc   \n",
       "189        two  convertible         fwd          front  ...         ohc   \n",
       "190        two    hatchback         fwd          front  ...         ohc   \n",
       "191       four        sedan         fwd          front  ...         ohc   \n",
       "192       four        sedan         fwd          front  ...         ohc   \n",
       "193       four        wagon         fwd          front  ...         ohc   \n",
       "194       four        sedan         rwd          front  ...         ohc   \n",
       "195       four        wagon         rwd          front  ...         ohc   \n",
       "196       four        sedan         rwd          front  ...         ohc   \n",
       "197       four        wagon         rwd          front  ...         ohc   \n",
       "198       four        sedan         rwd          front  ...         ohc   \n",
       "199       four        wagon         rwd          front  ...         ohc   \n",
       "200       four        sedan         rwd          front  ...         ohc   \n",
       "201       four        sedan         rwd          front  ...         ohc   \n",
       "202       four        sedan         rwd          front  ...        ohcv   \n",
       "203       four        sedan         rwd          front  ...         ohc   \n",
       "204       four        sedan         rwd          front  ...         ohc   \n",
       "\n",
       "     numofcylinders  enginesize  fuelsystem  bore stroke compressionratio  \\\n",
       "181             six         161        mpfi  3.27   3.35              9.2   \n",
       "182            four          97         idi  3.01   3.40             23.0   \n",
       "183            four         109        mpfi  3.19   3.40              9.0   \n",
       "184            four          97         idi  3.01   3.40             23.0   \n",
       "185            four         109        mpfi  3.19   3.40              9.0   \n",
       "186            four         109        mpfi  3.19   3.40              9.0   \n",
       "187            four          97         idi  3.01   3.40             23.0   \n",
       "188            four         109        mpfi  3.19   3.40             10.0   \n",
       "189            four         109        mpfi  3.19   3.40              8.5   \n",
       "190            four         109        mpfi  3.19   3.40              8.5   \n",
       "191            five         136        mpfi  3.19   3.40              8.5   \n",
       "192            four          97         idi  3.01   3.40             23.0   \n",
       "193            four         109        mpfi  3.19   3.40              9.0   \n",
       "194            four         141        mpfi  3.78   3.15              9.5   \n",
       "195            four         141        mpfi  3.78   3.15              9.5   \n",
       "196            four         141        mpfi  3.78   3.15              9.5   \n",
       "197            four         141        mpfi  3.78   3.15              9.5   \n",
       "198            four         130        mpfi  3.62   3.15              7.5   \n",
       "199            four         130        mpfi  3.62   3.15              7.5   \n",
       "200            four         141        mpfi  3.78   3.15              9.5   \n",
       "201            four         141        mpfi  3.78   3.15              8.7   \n",
       "202             six         173        mpfi  3.58   2.87              8.8   \n",
       "203             six         145         idi  3.01   3.40             23.0   \n",
       "204            four         141        mpfi  3.78   3.15              9.5   \n",
       "\n",
       "     horsepower peakrpm    price  \n",
       "181       156.0  5200.0  15750.0  \n",
       "182        52.0  4800.0   7775.0  \n",
       "183        85.0  5250.0   7975.0  \n",
       "184        52.0  4800.0   7995.0  \n",
       "185        85.0  5250.0   8195.0  \n",
       "186        85.0  5250.0   8495.0  \n",
       "187        68.0  4500.0   9495.0  \n",
       "188       100.0  5500.0   9995.0  \n",
       "189        90.0  5500.0  11595.0  \n",
       "190        90.0  5500.0   9980.0  \n",
       "191       110.0  5500.0  13295.0  \n",
       "192        68.0  4500.0  13845.0  \n",
       "193        88.0  5500.0  12290.0  \n",
       "194       114.0  5400.0  12940.0  \n",
       "195       114.0  5400.0  13415.0  \n",
       "196       114.0  5400.0  15985.0  \n",
       "197       114.0  5400.0  16515.0  \n",
       "198       162.0  5100.0  18420.0  \n",
       "199       162.0  5100.0  18950.0  \n",
       "200       114.0  5400.0  16845.0  \n",
       "201       160.0  5300.0  19045.0  \n",
       "202       134.0  5500.0  21485.0  \n",
       "203       106.0  4800.0  22470.0  \n",
       "204       114.0  5400.0  22625.0  \n",
       "\n",
       "[24 rows x 25 columns]"
      ]
     },
     "execution_count": 103,
     "metadata": {},
     "output_type": "execute_result"
    }
   ],
   "source": [
    "test"
   ]
  },
  {
   "cell_type": "code",
   "execution_count": 104,
   "id": "29d9acc8",
   "metadata": {},
   "outputs": [],
   "source": [
    "auto.drop([\"symboling\",\"make\",\"fueltype\",\"aspiration\",'numofdoors','bodystyle','drivewheels','enginelocation','enginetype','numofcylinders','fuelsystem'],axis=1,inplace=True)"
   ]
  },
  {
   "cell_type": "code",
   "execution_count": 105,
   "id": "dff29115",
   "metadata": {},
   "outputs": [],
   "source": [
    "model = sm.OLS(trainy,trainx)"
   ]
  },
  {
   "cell_type": "code",
   "execution_count": 106,
   "id": "15a664e9",
   "metadata": {},
   "outputs": [],
   "source": [
    "model=sm.OLS(trainy,trainx).fit()"
   ]
  },
  {
   "cell_type": "code",
   "execution_count": 107,
   "id": "e13d5065",
   "metadata": {},
   "outputs": [
    {
     "data": {
      "text/html": [
       "<table class=\"simpletable\">\n",
       "<caption>OLS Regression Results</caption>\n",
       "<tr>\n",
       "  <th>Dep. Variable:</th>         <td>citympg</td>     <th>  R-squared (uncentered):</th>      <td>   0.989</td> \n",
       "</tr>\n",
       "<tr>\n",
       "  <th>Model:</th>                   <td>OLS</td>       <th>  Adj. R-squared (uncentered):</th> <td>   0.989</td> \n",
       "</tr>\n",
       "<tr>\n",
       "  <th>Method:</th>             <td>Least Squares</td>  <th>  F-statistic:       </th>          <td>   1375.</td> \n",
       "</tr>\n",
       "<tr>\n",
       "  <th>Date:</th>             <td>Mon, 04 Apr 2022</td> <th>  Prob (F-statistic):</th>          <td>1.09e-181</td>\n",
       "</tr>\n",
       "<tr>\n",
       "  <th>Time:</th>                 <td>10:29:22</td>     <th>  Log-Likelihood:    </th>          <td> -493.41</td> \n",
       "</tr>\n",
       "<tr>\n",
       "  <th>No. Observations:</th>      <td>   205</td>      <th>  AIC:               </th>          <td>   1013.</td> \n",
       "</tr>\n",
       "<tr>\n",
       "  <th>Df Residuals:</th>          <td>   192</td>      <th>  BIC:               </th>          <td>   1056.</td> \n",
       "</tr>\n",
       "<tr>\n",
       "  <th>Df Model:</th>              <td>    13</td>      <th>                     </th>              <td> </td>    \n",
       "</tr>\n",
       "<tr>\n",
       "  <th>Covariance Type:</th>      <td>nonrobust</td>    <th>                     </th>              <td> </td>    \n",
       "</tr>\n",
       "</table>\n",
       "<table class=\"simpletable\">\n",
       "<tr>\n",
       "          <td></td>            <th>coef</th>     <th>std err</th>      <th>t</th>      <th>P>|t|</th>  <th>[0.025</th>    <th>0.975]</th>  \n",
       "</tr>\n",
       "<tr>\n",
       "  <th>normalizedlosses</th> <td>   -0.0028</td> <td>    0.007</td> <td>   -0.407</td> <td> 0.685</td> <td>   -0.016</td> <td>    0.011</td>\n",
       "</tr>\n",
       "<tr>\n",
       "  <th>wheelbase</th>        <td>    0.0953</td> <td>    0.084</td> <td>    1.134</td> <td> 0.258</td> <td>   -0.070</td> <td>    0.261</td>\n",
       "</tr>\n",
       "<tr>\n",
       "  <th>length</th>           <td>   -0.1839</td> <td>    0.046</td> <td>   -4.034</td> <td> 0.000</td> <td>   -0.274</td> <td>   -0.094</td>\n",
       "</tr>\n",
       "<tr>\n",
       "  <th>width</th>            <td>    0.7322</td> <td>    0.135</td> <td>    5.419</td> <td> 0.000</td> <td>    0.466</td> <td>    0.999</td>\n",
       "</tr>\n",
       "<tr>\n",
       "  <th>height</th>           <td>    0.3779</td> <td>    0.111</td> <td>    3.398</td> <td> 0.001</td> <td>    0.159</td> <td>    0.597</td>\n",
       "</tr>\n",
       "<tr>\n",
       "  <th>curbweight</th>       <td>   -0.0098</td> <td>    0.001</td> <td>   -7.718</td> <td> 0.000</td> <td>   -0.012</td> <td>   -0.007</td>\n",
       "</tr>\n",
       "<tr>\n",
       "  <th>enginesize</th>       <td>    0.0681</td> <td>    0.013</td> <td>    5.106</td> <td> 0.000</td> <td>    0.042</td> <td>    0.094</td>\n",
       "</tr>\n",
       "<tr>\n",
       "  <th>bore</th>             <td>   -0.5934</td> <td>    0.995</td> <td>   -0.597</td> <td> 0.552</td> <td>   -2.555</td> <td>    1.368</td>\n",
       "</tr>\n",
       "<tr>\n",
       "  <th>stroke</th>           <td>   -0.0972</td> <td>    0.684</td> <td>   -0.142</td> <td> 0.887</td> <td>   -1.445</td> <td>    1.251</td>\n",
       "</tr>\n",
       "<tr>\n",
       "  <th>compressionratio</th> <td>    0.5434</td> <td>    0.061</td> <td>    8.839</td> <td> 0.000</td> <td>    0.422</td> <td>    0.665</td>\n",
       "</tr>\n",
       "<tr>\n",
       "  <th>horsepower</th>       <td>   -0.0558</td> <td>    0.013</td> <td>   -4.158</td> <td> 0.000</td> <td>   -0.082</td> <td>   -0.029</td>\n",
       "</tr>\n",
       "<tr>\n",
       "  <th>peakrpm</th>          <td> 4.668e-05</td> <td>    0.001</td> <td>    0.080</td> <td> 0.936</td> <td>   -0.001</td> <td>    0.001</td>\n",
       "</tr>\n",
       "<tr>\n",
       "  <th>price</th>            <td>   -0.0001</td> <td> 5.56e-05</td> <td>   -2.412</td> <td> 0.017</td> <td>   -0.000</td> <td>-2.44e-05</td>\n",
       "</tr>\n",
       "</table>\n",
       "<table class=\"simpletable\">\n",
       "<tr>\n",
       "  <th>Omnibus:</th>       <td>54.557</td> <th>  Durbin-Watson:     </th> <td>   1.438</td>\n",
       "</tr>\n",
       "<tr>\n",
       "  <th>Prob(Omnibus):</th> <td> 0.000</td> <th>  Jarque-Bera (JB):  </th> <td> 141.637</td>\n",
       "</tr>\n",
       "<tr>\n",
       "  <th>Skew:</th>          <td> 1.152</td> <th>  Prob(JB):          </th> <td>1.75e-31</td>\n",
       "</tr>\n",
       "<tr>\n",
       "  <th>Kurtosis:</th>      <td> 6.357</td> <th>  Cond. No.          </th> <td>8.40e+04</td>\n",
       "</tr>\n",
       "</table><br/><br/>Notes:<br/>[1] R² is computed without centering (uncentered) since the model does not contain a constant.<br/>[2] Standard Errors assume that the covariance matrix of the errors is correctly specified.<br/>[3] The condition number is large, 8.4e+04. This might indicate that there are<br/>strong multicollinearity or other numerical problems."
      ],
      "text/plain": [
       "<class 'statsmodels.iolib.summary.Summary'>\n",
       "\"\"\"\n",
       "                                 OLS Regression Results                                \n",
       "=======================================================================================\n",
       "Dep. Variable:                citympg   R-squared (uncentered):                   0.989\n",
       "Model:                            OLS   Adj. R-squared (uncentered):              0.989\n",
       "Method:                 Least Squares   F-statistic:                              1375.\n",
       "Date:                Mon, 04 Apr 2022   Prob (F-statistic):                   1.09e-181\n",
       "Time:                        10:29:22   Log-Likelihood:                         -493.41\n",
       "No. Observations:                 205   AIC:                                      1013.\n",
       "Df Residuals:                     192   BIC:                                      1056.\n",
       "Df Model:                          13                                                  \n",
       "Covariance Type:            nonrobust                                                  \n",
       "====================================================================================\n",
       "                       coef    std err          t      P>|t|      [0.025      0.975]\n",
       "------------------------------------------------------------------------------------\n",
       "normalizedlosses    -0.0028      0.007     -0.407      0.685      -0.016       0.011\n",
       "wheelbase            0.0953      0.084      1.134      0.258      -0.070       0.261\n",
       "length              -0.1839      0.046     -4.034      0.000      -0.274      -0.094\n",
       "width                0.7322      0.135      5.419      0.000       0.466       0.999\n",
       "height               0.3779      0.111      3.398      0.001       0.159       0.597\n",
       "curbweight          -0.0098      0.001     -7.718      0.000      -0.012      -0.007\n",
       "enginesize           0.0681      0.013      5.106      0.000       0.042       0.094\n",
       "bore                -0.5934      0.995     -0.597      0.552      -2.555       1.368\n",
       "stroke              -0.0972      0.684     -0.142      0.887      -1.445       1.251\n",
       "compressionratio     0.5434      0.061      8.839      0.000       0.422       0.665\n",
       "horsepower          -0.0558      0.013     -4.158      0.000      -0.082      -0.029\n",
       "peakrpm           4.668e-05      0.001      0.080      0.936      -0.001       0.001\n",
       "price               -0.0001   5.56e-05     -2.412      0.017      -0.000   -2.44e-05\n",
       "==============================================================================\n",
       "Omnibus:                       54.557   Durbin-Watson:                   1.438\n",
       "Prob(Omnibus):                  0.000   Jarque-Bera (JB):              141.637\n",
       "Skew:                           1.152   Prob(JB):                     1.75e-31\n",
       "Kurtosis:                       6.357   Cond. No.                     8.40e+04\n",
       "==============================================================================\n",
       "\n",
       "Notes:\n",
       "[1] R² is computed without centering (uncentered) since the model does not contain a constant.\n",
       "[2] Standard Errors assume that the covariance matrix of the errors is correctly specified.\n",
       "[3] The condition number is large, 8.4e+04. This might indicate that there are\n",
       "strong multicollinearity or other numerical problems.\n",
       "\"\"\""
      ]
     },
     "execution_count": 107,
     "metadata": {},
     "output_type": "execute_result"
    }
   ],
   "source": [
    "model.summary()"
   ]
  },
  {
   "cell_type": "code",
   "execution_count": 108,
   "id": "615a49e8",
   "metadata": {},
   "outputs": [
    {
     "data": {
      "text/plain": [
       "normalizedlosses   -0.002807\n",
       "wheelbase           0.095319\n",
       "length             -0.183878\n",
       "width               0.732172\n",
       "height              0.377922\n",
       "curbweight         -0.009757\n",
       "enginesize          0.068130\n",
       "bore               -0.593352\n",
       "stroke             -0.097192\n",
       "compressionratio    0.543443\n",
       "horsepower         -0.055800\n",
       "peakrpm             0.000047\n",
       "price              -0.000134\n",
       "dtype: float64"
      ]
     },
     "execution_count": 108,
     "metadata": {},
     "output_type": "execute_result"
    }
   ],
   "source": [
    "model.params"
   ]
  },
  {
   "cell_type": "code",
   "execution_count": 109,
   "id": "bc1345e1",
   "metadata": {},
   "outputs": [],
   "source": [
    "predict=model.predict(trainx)"
   ]
  },
  {
   "cell_type": "code",
   "execution_count": 110,
   "id": "0736651d",
   "metadata": {},
   "outputs": [
    {
     "data": {
      "text/plain": [
       "0      21.235653\n",
       "1      20.832675\n",
       "2      20.147468\n",
       "3      26.099394\n",
       "4      21.013739\n",
       "         ...    \n",
       "200    21.886031\n",
       "201    17.565106\n",
       "202    21.512658\n",
       "203    27.005984\n",
       "204    20.037609\n",
       "Length: 205, dtype: float64"
      ]
     },
     "execution_count": 110,
     "metadata": {},
     "output_type": "execute_result"
    }
   ],
   "source": [
    "predict"
   ]
  },
  {
   "cell_type": "code",
   "execution_count": 134,
   "id": "42f12380",
   "metadata": {},
   "outputs": [],
   "source": [
    "q3=auto.stroke.quantile(0.75)"
   ]
  },
  {
   "cell_type": "code",
   "execution_count": 135,
   "id": "64b1d05f",
   "metadata": {},
   "outputs": [],
   "source": [
    "q1=auto.stroke.quantile(0.25)"
   ]
  },
  {
   "cell_type": "code",
   "execution_count": 136,
   "id": "8031e77c",
   "metadata": {},
   "outputs": [],
   "source": [
    "iqr=q3-q1"
   ]
  },
  {
   "cell_type": "code",
   "execution_count": 137,
   "id": "8cf92335",
   "metadata": {},
   "outputs": [],
   "source": [
    "lower_lim=q1-1.5*iqr\n",
    "upper_lim=q3+1.5*iqr"
   ]
  },
  {
   "cell_type": "code",
   "execution_count": 138,
   "id": "110e7a05",
   "metadata": {},
   "outputs": [
    {
     "data": {
      "text/plain": [
       "2.6599999999999993"
      ]
     },
     "execution_count": 138,
     "metadata": {},
     "output_type": "execute_result"
    }
   ],
   "source": [
    "lower_lim"
   ]
  },
  {
   "cell_type": "code",
   "execution_count": 139,
   "id": "a81f008d",
   "metadata": {},
   "outputs": [
    {
     "data": {
      "text/plain": [
       "3.8600000000000003"
      ]
     },
     "execution_count": 139,
     "metadata": {},
     "output_type": "execute_result"
    }
   ],
   "source": [
    "upper_lim"
   ]
  },
  {
   "cell_type": "code",
   "execution_count": 145,
   "id": "b3906c4e",
   "metadata": {},
   "outputs": [
    {
     "data": {
      "text/html": [
       "<div>\n",
       "<style scoped>\n",
       "    .dataframe tbody tr th:only-of-type {\n",
       "        vertical-align: middle;\n",
       "    }\n",
       "\n",
       "    .dataframe tbody tr th {\n",
       "        vertical-align: top;\n",
       "    }\n",
       "\n",
       "    .dataframe thead th {\n",
       "        text-align: right;\n",
       "    }\n",
       "</style>\n",
       "<table border=\"1\" class=\"dataframe\">\n",
       "  <thead>\n",
       "    <tr style=\"text-align: right;\">\n",
       "      <th></th>\n",
       "      <th>normalizedlosses</th>\n",
       "      <th>wheelbase</th>\n",
       "      <th>length</th>\n",
       "      <th>width</th>\n",
       "      <th>height</th>\n",
       "      <th>curbweight</th>\n",
       "      <th>enginesize</th>\n",
       "      <th>bore</th>\n",
       "      <th>stroke</th>\n",
       "      <th>compressionratio</th>\n",
       "      <th>horsepower</th>\n",
       "      <th>peakrpm</th>\n",
       "      <th>price</th>\n",
       "    </tr>\n",
       "  </thead>\n",
       "  <tbody>\n",
       "    <tr>\n",
       "      <th>29</th>\n",
       "      <td>145.0</td>\n",
       "      <td>95.9</td>\n",
       "      <td>173.2</td>\n",
       "      <td>66.3</td>\n",
       "      <td>50.2</td>\n",
       "      <td>2811</td>\n",
       "      <td>156</td>\n",
       "      <td>3.60</td>\n",
       "      <td>3.90</td>\n",
       "      <td>7.0</td>\n",
       "      <td>145.000000</td>\n",
       "      <td>5000.000000</td>\n",
       "      <td>12964.0</td>\n",
       "    </tr>\n",
       "    <tr>\n",
       "      <th>47</th>\n",
       "      <td>145.0</td>\n",
       "      <td>113.0</td>\n",
       "      <td>199.6</td>\n",
       "      <td>69.6</td>\n",
       "      <td>52.8</td>\n",
       "      <td>4066</td>\n",
       "      <td>258</td>\n",
       "      <td>3.63</td>\n",
       "      <td>4.17</td>\n",
       "      <td>8.1</td>\n",
       "      <td>176.000000</td>\n",
       "      <td>4750.000000</td>\n",
       "      <td>32250.0</td>\n",
       "    </tr>\n",
       "    <tr>\n",
       "      <th>48</th>\n",
       "      <td>122.0</td>\n",
       "      <td>113.0</td>\n",
       "      <td>199.6</td>\n",
       "      <td>69.6</td>\n",
       "      <td>52.8</td>\n",
       "      <td>4066</td>\n",
       "      <td>258</td>\n",
       "      <td>3.63</td>\n",
       "      <td>4.17</td>\n",
       "      <td>8.1</td>\n",
       "      <td>176.000000</td>\n",
       "      <td>4750.000000</td>\n",
       "      <td>35550.0</td>\n",
       "    </tr>\n",
       "    <tr>\n",
       "      <th>130</th>\n",
       "      <td>122.0</td>\n",
       "      <td>96.1</td>\n",
       "      <td>181.5</td>\n",
       "      <td>66.5</td>\n",
       "      <td>55.2</td>\n",
       "      <td>2579</td>\n",
       "      <td>132</td>\n",
       "      <td>3.46</td>\n",
       "      <td>3.90</td>\n",
       "      <td>8.7</td>\n",
       "      <td>104.256158</td>\n",
       "      <td>5125.369458</td>\n",
       "      <td>9295.0</td>\n",
       "    </tr>\n",
       "    <tr>\n",
       "      <th>131</th>\n",
       "      <td>122.0</td>\n",
       "      <td>96.1</td>\n",
       "      <td>176.8</td>\n",
       "      <td>66.6</td>\n",
       "      <td>50.5</td>\n",
       "      <td>2460</td>\n",
       "      <td>132</td>\n",
       "      <td>3.46</td>\n",
       "      <td>3.90</td>\n",
       "      <td>8.7</td>\n",
       "      <td>104.256158</td>\n",
       "      <td>5125.369458</td>\n",
       "      <td>9895.0</td>\n",
       "    </tr>\n",
       "  </tbody>\n",
       "</table>\n",
       "</div>"
      ],
      "text/plain": [
       "     normalizedlosses  wheelbase  length  width  height  curbweight  \\\n",
       "29              145.0       95.9   173.2   66.3    50.2        2811   \n",
       "47              145.0      113.0   199.6   69.6    52.8        4066   \n",
       "48              122.0      113.0   199.6   69.6    52.8        4066   \n",
       "130             122.0       96.1   181.5   66.5    55.2        2579   \n",
       "131             122.0       96.1   176.8   66.6    50.5        2460   \n",
       "\n",
       "     enginesize  bore  stroke  compressionratio  horsepower      peakrpm  \\\n",
       "29          156  3.60    3.90               7.0  145.000000  5000.000000   \n",
       "47          258  3.63    4.17               8.1  176.000000  4750.000000   \n",
       "48          258  3.63    4.17               8.1  176.000000  4750.000000   \n",
       "130         132  3.46    3.90               8.7  104.256158  5125.369458   \n",
       "131         132  3.46    3.90               8.7  104.256158  5125.369458   \n",
       "\n",
       "       price  \n",
       "29   12964.0  \n",
       "47   32250.0  \n",
       "48   35550.0  \n",
       "130   9295.0  \n",
       "131   9895.0  "
      ]
     },
     "execution_count": 145,
     "metadata": {},
     "output_type": "execute_result"
    }
   ],
   "source": [
    "auto[(auto.stroke>=lower_lim) & (auto.stroke>=upper_lim)]"
   ]
  },
  {
   "cell_type": "code",
   "execution_count": 146,
   "id": "9f8cfa2e",
   "metadata": {},
   "outputs": [],
   "source": [
    "UE=auto.stroke[auto.stroke>upper_lim]"
   ]
  },
  {
   "cell_type": "code",
   "execution_count": 147,
   "id": "69aafa8b",
   "metadata": {},
   "outputs": [
    {
     "data": {
      "text/plain": [
       "29     3.90\n",
       "47     4.17\n",
       "48     4.17\n",
       "130    3.90\n",
       "131    3.90\n",
       "Name: stroke, dtype: float64"
      ]
     },
     "execution_count": 147,
     "metadata": {},
     "output_type": "execute_result"
    }
   ],
   "source": [
    "UE"
   ]
  },
  {
   "cell_type": "code",
   "execution_count": 148,
   "id": "60723b3f",
   "metadata": {},
   "outputs": [],
   "source": [
    "LE=auto.stroke[auto.stroke>lower_lim]"
   ]
  },
  {
   "cell_type": "code",
   "execution_count": 149,
   "id": "66b4dc75",
   "metadata": {},
   "outputs": [
    {
     "data": {
      "text/plain": [
       "0      2.68\n",
       "1      2.68\n",
       "2      3.47\n",
       "3      3.40\n",
       "4      3.40\n",
       "       ... \n",
       "200    3.15\n",
       "201    3.15\n",
       "202    2.87\n",
       "203    3.40\n",
       "204    3.15\n",
       "Name: stroke, Length: 190, dtype: float64"
      ]
     },
     "execution_count": 149,
     "metadata": {},
     "output_type": "execute_result"
    }
   ],
   "source": [
    "LE"
   ]
  },
  {
   "cell_type": "code",
   "execution_count": null,
   "id": "5d4472d5",
   "metadata": {},
   "outputs": [],
   "source": []
  }
 ],
 "metadata": {
  "kernelspec": {
   "display_name": "Python 3 (ipykernel)",
   "language": "python",
   "name": "python3"
  },
  "language_info": {
   "codemirror_mode": {
    "name": "ipython",
    "version": 3
   },
   "file_extension": ".py",
   "mimetype": "text/x-python",
   "name": "python",
   "nbconvert_exporter": "python",
   "pygments_lexer": "ipython3",
   "version": "3.9.7"
  }
 },
 "nbformat": 4,
 "nbformat_minor": 5
}
